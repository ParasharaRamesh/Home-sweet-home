{
 "nbformat": 4,
 "nbformat_minor": 0,
 "metadata": {
  "colab": {
   "provenance": []
  },
  "kernelspec": {
   "name": "python3",
   "language": "python",
   "display_name": "Python 3 (ipykernel)"
  },
  "language_info": {
   "name": "python"
  }
 },
 "cells": [
  {
   "cell_type": "markdown",
   "source": [],
   "metadata": {
    "id": "n27SgiWBxp-3"
   }
  },
  {
   "cell_type": "markdown",
   "source": [
    "# Importing required packages"
   ],
   "metadata": {
    "collapsed": false
   }
  },
  {
   "cell_type": "code",
   "execution_count": 29,
   "metadata": {
    "colab": {
     "base_uri": "https://localhost:8080/"
    },
    "id": "0jsAGG5NuTZc",
    "outputId": "f785a101-2fb2-4ac9-8f17-20205f3e481c",
    "ExecuteTime": {
     "end_time": "2023-11-04T11:42:41.037158600Z",
     "start_time": "2023-11-04T11:42:41.027068300Z"
    }
   },
   "outputs": [],
   "source": [
    "import pandas as pd\n",
    "import sys\n",
    "import os\n",
    "from process import *\n",
    "from process_coe_prices import *\n",
    "from process_stock_prices import *\n",
    "from process_main_dataset import *\n",
    "from process_location_info import *"
   ]
  },
  {
   "cell_type": "markdown",
   "source": [
    "# Defining Local paths to datasets"
   ],
   "metadata": {
    "collapsed": false
   }
  },
  {
   "cell_type": "code",
   "execution_count": 10,
   "outputs": [],
   "source": [
    "datasets_path = \"../../datasets\"\n",
    "train_input_path = f\"{datasets_path}/train.csv\"\n",
    "test_input_path = f\"{datasets_path}/test.csv\"\n",
    "mrt_input_path = f\"{datasets_path}/auxiliary-data/sg-mrt-existing-stations.csv\"\n",
    "mrt_planned_input_path = f\"{datasets_path}/auxiliary-data/sg-mrt-planned-stations.csv\"\n",
    "mall_input_path = f\"{datasets_path}/auxiliary-data/sg-shopping-malls.csv\"\n",
    "school_input_path = f\"{datasets_path}/auxiliary-data/sg-primary-schools.csv\"\n",
    "coe_input_path = f\"{datasets_path}/auxiliary-data/sg-coe-prices.csv\"\n",
    "stocks_input_path = f\"{datasets_path}/auxiliary-data/sg-stock-prices.csv\""
   ],
   "metadata": {
    "collapsed": false,
    "ExecuteTime": {
     "end_time": "2023-11-04T11:21:16.640552300Z",
     "start_time": "2023-11-04T11:21:16.630340900Z"
    }
   }
  },
  {
   "cell_type": "markdown",
   "source": [
    "# Getting the data from the auxiliary datasets\n",
    "\n",
    "For more details about how we process the individual auxiliary datasets refer to the ipynb notebooks in /data/auxiliary datasets.\n",
    "\n",
    "Once we get the values we add them as new columns in the original train dataset"
   ],
   "metadata": {
    "collapsed": false
   }
  },
  {
   "cell_type": "code",
   "execution_count": 11,
   "outputs": [
    {
     "name": "stdout",
     "output_type": "stream",
     "text": [
      "Finished processing the COE Auxiliary dataset\n",
      "Finished processing the Stock prices Auxiliary dataset\n",
      "Finished calculating the distance to nearest existing mrt\n",
      "Finished calculating the distance to nearest planned mrt\n",
      "Finished calculating the distance to nearest school\n",
      "Finished calculating the distance to nearest mall\n"
     ]
    }
   ],
   "source": [
    "# getting additional details from auxillary datasets\n",
    "# process with coe\n",
    "df_coe = transform_coe_prices(coe_input_path)\n",
    "\n",
    "# process stock information\n",
    "df_stocks = transform_stock_prices(stocks_input_path)\n",
    "\n",
    "# first process and transform the dataset with the distance related values\n",
    "df_with_locations = extract_distance_columns_from_aux_mrt_school_mall(train_input_path, mrt_input_path, mrt_planned_input_path, mall_input_path, school_input_path)\n",
    "\n",
    "#combining all the dataframes\n",
    "df_dirty = merge_dataframes(df_with_locations, df_coe, df_stocks)"
   ],
   "metadata": {
    "collapsed": false,
    "ExecuteTime": {
     "end_time": "2023-11-04T11:21:52.130613500Z",
     "start_time": "2023-11-04T11:21:17.790344600Z"
    }
   }
  },
  {
   "cell_type": "markdown",
   "source": [
    "## Checking out how the dataset looks like now"
   ],
   "metadata": {
    "collapsed": false
   }
  },
  {
   "cell_type": "code",
   "execution_count": 12,
   "outputs": [
    {
     "data": {
      "text/plain": "  rent_approval_date           town block             street_name  flat_type  \\\n0            2021-09    jurong east   257   Jurong East Street 24     3 room   \n1            2021-09        punggol  203a           punggol field     4 room   \n2            2021-09  choa chu kang   458  choa chu kang avenue 4  executive   \n3            2021-09      sembawang  340a         sembawang close     5 room   \n4            2021-09         bishan   117        bishan street 12     5 room   \n\n          flat_model  floor_area_sqm furnished  lease_commence_date  latitude  \\\n0     new generation            67.0       yes               1983.0  1.344518   \n1            model a            85.0       yes               2004.0  1.398524   \n2  premium apartment           142.0       yes               2000.0  1.378101   \n3  premium apartment           110.0       yes               2001.0  1.447534   \n4           improved           121.0       yes               1987.0  1.347017   \n\n   ...            subzone  planning_area             region monthly_rent  \\\n0  ...         yuhua east    jurong east        west region       1600.0   \n1  ...            matilda        punggol  north-east region       2400.0   \n2  ...         peng siang  choa chu kang        west region       1800.0   \n3  ...  sembawang central      sembawang       north region       2100.0   \n4  ...        bishan east         bishan     central region       2750.0   \n\n  distance_to_nearest_existing_mrt  distance_to_nearest_planned_mrt  \\\n0                       699.127003                       675.092874   \n1                       683.672274                       766.323178   \n2                      1231.831781                      1208.372363   \n3                       299.913615                      8571.934879   \n4                       445.013019                      2188.355884   \n\n   distance_to_nearest_school  distance_to_nearest_mall  coe_price_indicator  \\\n0                  334.846135               1202.673513             0.559383   \n1                  476.014557                704.576366             0.559383   \n2                  213.468076                936.378087             0.559383   \n3                  444.346799                189.552356             0.559383   \n4                  618.812729                402.450976             0.559383   \n\n   stock_price  \n0     0.888712  \n1     0.888712  \n2     0.888712  \n3     0.888712  \n4     0.888712  \n\n[5 rows x 22 columns]",
      "text/html": "<div>\n<style scoped>\n    .dataframe tbody tr th:only-of-type {\n        vertical-align: middle;\n    }\n\n    .dataframe tbody tr th {\n        vertical-align: top;\n    }\n\n    .dataframe thead th {\n        text-align: right;\n    }\n</style>\n<table border=\"1\" class=\"dataframe\">\n  <thead>\n    <tr style=\"text-align: right;\">\n      <th></th>\n      <th>rent_approval_date</th>\n      <th>town</th>\n      <th>block</th>\n      <th>street_name</th>\n      <th>flat_type</th>\n      <th>flat_model</th>\n      <th>floor_area_sqm</th>\n      <th>furnished</th>\n      <th>lease_commence_date</th>\n      <th>latitude</th>\n      <th>...</th>\n      <th>subzone</th>\n      <th>planning_area</th>\n      <th>region</th>\n      <th>monthly_rent</th>\n      <th>distance_to_nearest_existing_mrt</th>\n      <th>distance_to_nearest_planned_mrt</th>\n      <th>distance_to_nearest_school</th>\n      <th>distance_to_nearest_mall</th>\n      <th>coe_price_indicator</th>\n      <th>stock_price</th>\n    </tr>\n  </thead>\n  <tbody>\n    <tr>\n      <th>0</th>\n      <td>2021-09</td>\n      <td>jurong east</td>\n      <td>257</td>\n      <td>Jurong East Street 24</td>\n      <td>3 room</td>\n      <td>new generation</td>\n      <td>67.0</td>\n      <td>yes</td>\n      <td>1983.0</td>\n      <td>1.344518</td>\n      <td>...</td>\n      <td>yuhua east</td>\n      <td>jurong east</td>\n      <td>west region</td>\n      <td>1600.0</td>\n      <td>699.127003</td>\n      <td>675.092874</td>\n      <td>334.846135</td>\n      <td>1202.673513</td>\n      <td>0.559383</td>\n      <td>0.888712</td>\n    </tr>\n    <tr>\n      <th>1</th>\n      <td>2021-09</td>\n      <td>punggol</td>\n      <td>203a</td>\n      <td>punggol field</td>\n      <td>4 room</td>\n      <td>model a</td>\n      <td>85.0</td>\n      <td>yes</td>\n      <td>2004.0</td>\n      <td>1.398524</td>\n      <td>...</td>\n      <td>matilda</td>\n      <td>punggol</td>\n      <td>north-east region</td>\n      <td>2400.0</td>\n      <td>683.672274</td>\n      <td>766.323178</td>\n      <td>476.014557</td>\n      <td>704.576366</td>\n      <td>0.559383</td>\n      <td>0.888712</td>\n    </tr>\n    <tr>\n      <th>2</th>\n      <td>2021-09</td>\n      <td>choa chu kang</td>\n      <td>458</td>\n      <td>choa chu kang avenue 4</td>\n      <td>executive</td>\n      <td>premium apartment</td>\n      <td>142.0</td>\n      <td>yes</td>\n      <td>2000.0</td>\n      <td>1.378101</td>\n      <td>...</td>\n      <td>peng siang</td>\n      <td>choa chu kang</td>\n      <td>west region</td>\n      <td>1800.0</td>\n      <td>1231.831781</td>\n      <td>1208.372363</td>\n      <td>213.468076</td>\n      <td>936.378087</td>\n      <td>0.559383</td>\n      <td>0.888712</td>\n    </tr>\n    <tr>\n      <th>3</th>\n      <td>2021-09</td>\n      <td>sembawang</td>\n      <td>340a</td>\n      <td>sembawang close</td>\n      <td>5 room</td>\n      <td>premium apartment</td>\n      <td>110.0</td>\n      <td>yes</td>\n      <td>2001.0</td>\n      <td>1.447534</td>\n      <td>...</td>\n      <td>sembawang central</td>\n      <td>sembawang</td>\n      <td>north region</td>\n      <td>2100.0</td>\n      <td>299.913615</td>\n      <td>8571.934879</td>\n      <td>444.346799</td>\n      <td>189.552356</td>\n      <td>0.559383</td>\n      <td>0.888712</td>\n    </tr>\n    <tr>\n      <th>4</th>\n      <td>2021-09</td>\n      <td>bishan</td>\n      <td>117</td>\n      <td>bishan street 12</td>\n      <td>5 room</td>\n      <td>improved</td>\n      <td>121.0</td>\n      <td>yes</td>\n      <td>1987.0</td>\n      <td>1.347017</td>\n      <td>...</td>\n      <td>bishan east</td>\n      <td>bishan</td>\n      <td>central region</td>\n      <td>2750.0</td>\n      <td>445.013019</td>\n      <td>2188.355884</td>\n      <td>618.812729</td>\n      <td>402.450976</td>\n      <td>0.559383</td>\n      <td>0.888712</td>\n    </tr>\n  </tbody>\n</table>\n<p>5 rows × 22 columns</p>\n</div>"
     },
     "execution_count": 12,
     "metadata": {},
     "output_type": "execute_result"
    }
   ],
   "source": [
    "df_dirty.head()"
   ],
   "metadata": {
    "collapsed": false,
    "ExecuteTime": {
     "end_time": "2023-11-04T11:22:22.980671300Z",
     "start_time": "2023-11-04T11:22:22.965287400Z"
    }
   }
  },
  {
   "cell_type": "markdown",
   "source": [
    "# Cleaning the dataset\n"
   ],
   "metadata": {
    "collapsed": false
   }
  },
  {
   "cell_type": "markdown",
   "source": [
    "## 1. Deleting unnecessary columns"
   ],
   "metadata": {
    "collapsed": false
   }
  },
  {
   "cell_type": "markdown",
   "source": [
    "### 1.1 elevation\n"
   ],
   "metadata": {
    "collapsed": false
   }
  },
  {
   "cell_type": "code",
   "execution_count": 13,
   "outputs": [
    {
     "name": "stdout",
     "output_type": "stream",
     "text": [
      "Number of columns BEFORE elevation column deletion = 22\n",
      "Number of columns AFTER elevation column deletion = 21\n"
     ]
    }
   ],
   "source": [
    "df_delete = delete_column(df_dirty, \"elevation\")"
   ],
   "metadata": {
    "collapsed": false,
    "ExecuteTime": {
     "end_time": "2023-11-04T11:37:22.794914800Z",
     "start_time": "2023-11-04T11:37:22.757222900Z"
    }
   }
  },
  {
   "cell_type": "markdown",
   "source": [
    "### 1.2 furnished"
   ],
   "metadata": {
    "collapsed": false
   }
  },
  {
   "cell_type": "code",
   "execution_count": 14,
   "outputs": [
    {
     "name": "stdout",
     "output_type": "stream",
     "text": [
      "Number of columns BEFORE furnished column deletion = 21\n",
      "Number of columns AFTER furnished column deletion = 20\n"
     ]
    }
   ],
   "source": [
    "# 1. delete columns\n",
    "df_delete = delete_column(df_delete, \"furnished\")\n"
   ],
   "metadata": {
    "collapsed": false,
    "ExecuteTime": {
     "end_time": "2023-11-04T11:37:25.133331200Z",
     "start_time": "2023-11-04T11:37:25.117409300Z"
    }
   }
  },
  {
   "cell_type": "markdown",
   "source": [
    "### 1.3 planning_area"
   ],
   "metadata": {
    "collapsed": false
   }
  },
  {
   "cell_type": "code",
   "execution_count": 15,
   "outputs": [
    {
     "name": "stdout",
     "output_type": "stream",
     "text": [
      "Number of columns BEFORE planning_area column deletion = 20\n",
      "Number of columns AFTER planning_area column deletion = 19\n"
     ]
    }
   ],
   "source": [
    "df_delete = delete_column(df_delete, \"planning_area\")\n"
   ],
   "metadata": {
    "collapsed": false,
    "ExecuteTime": {
     "end_time": "2023-11-04T11:37:26.276974700Z",
     "start_time": "2023-11-04T11:37:26.267168500Z"
    }
   }
  },
  {
   "cell_type": "markdown",
   "source": [
    "### 1.4 block"
   ],
   "metadata": {
    "collapsed": false
   }
  },
  {
   "cell_type": "code",
   "execution_count": 16,
   "outputs": [
    {
     "name": "stdout",
     "output_type": "stream",
     "text": [
      "Number of columns BEFORE block column deletion = 19\n",
      "Number of columns AFTER block column deletion = 18\n"
     ]
    }
   ],
   "source": [
    "df_delete = delete_column(df_delete, \"block\")\n"
   ],
   "metadata": {
    "collapsed": false,
    "ExecuteTime": {
     "end_time": "2023-11-04T11:37:27.179860900Z",
     "start_time": "2023-11-04T11:37:27.167216600Z"
    }
   }
  },
  {
   "cell_type": "markdown",
   "source": [
    "### 1.5 street_name"
   ],
   "metadata": {
    "collapsed": false
   }
  },
  {
   "cell_type": "code",
   "execution_count": 17,
   "outputs": [
    {
     "name": "stdout",
     "output_type": "stream",
     "text": [
      "Number of columns BEFORE street_name column deletion = 18\n",
      "Number of columns AFTER street_name column deletion = 17\n"
     ]
    }
   ],
   "source": [
    "df_delete = delete_column(df_delete, \"street_name\")\n"
   ],
   "metadata": {
    "collapsed": false,
    "ExecuteTime": {
     "end_time": "2023-11-04T11:37:29.127115200Z",
     "start_time": "2023-11-04T11:37:29.085382400Z"
    }
   }
  },
  {
   "cell_type": "markdown",
   "source": [
    "### 1.6 subzone"
   ],
   "metadata": {
    "collapsed": false
   }
  },
  {
   "cell_type": "code",
   "execution_count": 18,
   "outputs": [
    {
     "name": "stdout",
     "output_type": "stream",
     "text": [
      "Number of columns BEFORE subzone column deletion = 17\n",
      "Number of columns AFTER subzone column deletion = 16\n"
     ]
    }
   ],
   "source": [
    "df_delete = delete_column(df_delete, \"subzone\")"
   ],
   "metadata": {
    "collapsed": false,
    "ExecuteTime": {
     "end_time": "2023-11-04T11:37:29.887356200Z",
     "start_time": "2023-11-04T11:37:29.873680Z"
    }
   }
  },
  {
   "cell_type": "markdown",
   "source": [
    "## 2. Converting all string values to lower\n",
    "\n",
    "This converts all columns with type string into lowercase"
   ],
   "metadata": {
    "collapsed": false
   }
  },
  {
   "cell_type": "code",
   "execution_count": 19,
   "outputs": [],
   "source": [
    "df_lower_case = df_delete.applymap(lambda x: x.lower() if isinstance(x, str) else x)"
   ],
   "metadata": {
    "collapsed": false,
    "ExecuteTime": {
     "end_time": "2023-11-04T11:38:20.462961400Z",
     "start_time": "2023-11-04T11:38:20.296835900Z"
    }
   }
  },
  {
   "cell_type": "code",
   "execution_count": 20,
   "outputs": [
    {
     "data": {
      "text/plain": "  rent_approval_date           town  flat_type         flat_model  \\\n0            2021-09    jurong east     3 room     new generation   \n1            2021-09        punggol     4 room            model a   \n2            2021-09  choa chu kang  executive  premium apartment   \n3            2021-09      sembawang     5 room  premium apartment   \n4            2021-09         bishan     5 room           improved   \n\n   floor_area_sqm  lease_commence_date  latitude   longitude  \\\n0            67.0               1983.0  1.344518  103.738630   \n1            85.0               2004.0  1.398524  103.903863   \n2           142.0               2000.0  1.378101  103.736002   \n3           110.0               2001.0  1.447534  103.817892   \n4           121.0               1987.0  1.347017  103.849987   \n\n              region  monthly_rent  distance_to_nearest_existing_mrt  \\\n0        west region        1600.0                        699.127003   \n1  north-east region        2400.0                        683.672274   \n2        west region        1800.0                       1231.831781   \n3       north region        2100.0                        299.913615   \n4     central region        2750.0                        445.013019   \n\n   distance_to_nearest_planned_mrt  distance_to_nearest_school  \\\n0                       675.092874                  334.846135   \n1                       766.323178                  476.014557   \n2                      1208.372363                  213.468076   \n3                      8571.934879                  444.346799   \n4                      2188.355884                  618.812729   \n\n   distance_to_nearest_mall  coe_price_indicator  stock_price  \n0               1202.673513             0.559383     0.888712  \n1                704.576366             0.559383     0.888712  \n2                936.378087             0.559383     0.888712  \n3                189.552356             0.559383     0.888712  \n4                402.450976             0.559383     0.888712  ",
      "text/html": "<div>\n<style scoped>\n    .dataframe tbody tr th:only-of-type {\n        vertical-align: middle;\n    }\n\n    .dataframe tbody tr th {\n        vertical-align: top;\n    }\n\n    .dataframe thead th {\n        text-align: right;\n    }\n</style>\n<table border=\"1\" class=\"dataframe\">\n  <thead>\n    <tr style=\"text-align: right;\">\n      <th></th>\n      <th>rent_approval_date</th>\n      <th>town</th>\n      <th>flat_type</th>\n      <th>flat_model</th>\n      <th>floor_area_sqm</th>\n      <th>lease_commence_date</th>\n      <th>latitude</th>\n      <th>longitude</th>\n      <th>region</th>\n      <th>monthly_rent</th>\n      <th>distance_to_nearest_existing_mrt</th>\n      <th>distance_to_nearest_planned_mrt</th>\n      <th>distance_to_nearest_school</th>\n      <th>distance_to_nearest_mall</th>\n      <th>coe_price_indicator</th>\n      <th>stock_price</th>\n    </tr>\n  </thead>\n  <tbody>\n    <tr>\n      <th>0</th>\n      <td>2021-09</td>\n      <td>jurong east</td>\n      <td>3 room</td>\n      <td>new generation</td>\n      <td>67.0</td>\n      <td>1983.0</td>\n      <td>1.344518</td>\n      <td>103.738630</td>\n      <td>west region</td>\n      <td>1600.0</td>\n      <td>699.127003</td>\n      <td>675.092874</td>\n      <td>334.846135</td>\n      <td>1202.673513</td>\n      <td>0.559383</td>\n      <td>0.888712</td>\n    </tr>\n    <tr>\n      <th>1</th>\n      <td>2021-09</td>\n      <td>punggol</td>\n      <td>4 room</td>\n      <td>model a</td>\n      <td>85.0</td>\n      <td>2004.0</td>\n      <td>1.398524</td>\n      <td>103.903863</td>\n      <td>north-east region</td>\n      <td>2400.0</td>\n      <td>683.672274</td>\n      <td>766.323178</td>\n      <td>476.014557</td>\n      <td>704.576366</td>\n      <td>0.559383</td>\n      <td>0.888712</td>\n    </tr>\n    <tr>\n      <th>2</th>\n      <td>2021-09</td>\n      <td>choa chu kang</td>\n      <td>executive</td>\n      <td>premium apartment</td>\n      <td>142.0</td>\n      <td>2000.0</td>\n      <td>1.378101</td>\n      <td>103.736002</td>\n      <td>west region</td>\n      <td>1800.0</td>\n      <td>1231.831781</td>\n      <td>1208.372363</td>\n      <td>213.468076</td>\n      <td>936.378087</td>\n      <td>0.559383</td>\n      <td>0.888712</td>\n    </tr>\n    <tr>\n      <th>3</th>\n      <td>2021-09</td>\n      <td>sembawang</td>\n      <td>5 room</td>\n      <td>premium apartment</td>\n      <td>110.0</td>\n      <td>2001.0</td>\n      <td>1.447534</td>\n      <td>103.817892</td>\n      <td>north region</td>\n      <td>2100.0</td>\n      <td>299.913615</td>\n      <td>8571.934879</td>\n      <td>444.346799</td>\n      <td>189.552356</td>\n      <td>0.559383</td>\n      <td>0.888712</td>\n    </tr>\n    <tr>\n      <th>4</th>\n      <td>2021-09</td>\n      <td>bishan</td>\n      <td>5 room</td>\n      <td>improved</td>\n      <td>121.0</td>\n      <td>1987.0</td>\n      <td>1.347017</td>\n      <td>103.849987</td>\n      <td>central region</td>\n      <td>2750.0</td>\n      <td>445.013019</td>\n      <td>2188.355884</td>\n      <td>618.812729</td>\n      <td>402.450976</td>\n      <td>0.559383</td>\n      <td>0.888712</td>\n    </tr>\n  </tbody>\n</table>\n</div>"
     },
     "execution_count": 20,
     "metadata": {},
     "output_type": "execute_result"
    }
   ],
   "source": [
    "df_lower_case.head()"
   ],
   "metadata": {
    "collapsed": false,
    "ExecuteTime": {
     "end_time": "2023-11-04T11:38:27.168386200Z",
     "start_time": "2023-11-04T11:38:27.156829800Z"
    }
   }
  },
  {
   "cell_type": "markdown",
   "source": [
    "## 3. Converting the date to unix timestep\n",
    "\n",
    "The rationale behind doing this is to ensure that we get a numerical value for date. Since the date might also have something to do with the prediction of monthly rent"
   ],
   "metadata": {
    "collapsed": false
   }
  },
  {
   "cell_type": "code",
   "execution_count": 21,
   "outputs": [],
   "source": [
    "df_lower_case['rent_approval_date'] = pd.to_datetime(df_lower_case['rent_approval_date'] + '-01', format='%Y-%m-%d')\n",
    "df_lower_case['rent_approval_date'] = (df_lower_case['rent_approval_date'] - pd.Timestamp(\"1970-01-01\")) // pd.Timedelta(seconds=1)"
   ],
   "metadata": {
    "collapsed": false,
    "ExecuteTime": {
     "end_time": "2023-11-04T11:38:40.932399400Z",
     "start_time": "2023-11-04T11:38:40.911265200Z"
    }
   }
  },
  {
   "cell_type": "code",
   "execution_count": 22,
   "outputs": [
    {
     "data": {
      "text/plain": "0    1630454400\n1    1630454400\n2    1630454400\n3    1630454400\n4    1630454400\nName: rent_approval_date, dtype: int64"
     },
     "execution_count": 22,
     "metadata": {},
     "output_type": "execute_result"
    }
   ],
   "source": [
    "df_lower_case['rent_approval_date'].head()"
   ],
   "metadata": {
    "collapsed": false,
    "ExecuteTime": {
     "end_time": "2023-11-04T11:38:49.129459Z",
     "start_time": "2023-11-04T11:38:49.126939300Z"
    }
   }
  },
  {
   "cell_type": "markdown",
   "source": [
    "## 4. Finding an ordinal value for flat type and flat model"
   ],
   "metadata": {
    "collapsed": false
   }
  },
  {
   "cell_type": "markdown",
   "source": [
    "### 4.1 Ordinalizing flat type\n",
    "\n",
    "Normalize flat_type column. It replaces the string with the number of rooms.\n",
    "\n",
    "Eg \"3-rooms\" will be \"3\". Only for \"Executive\" type we will replace it with an ordinal value of 6\n"
   ],
   "metadata": {
    "collapsed": false
   }
  },
  {
   "cell_type": "code",
   "execution_count": 23,
   "outputs": [],
   "source": [
    "df_ordinal_flat_type = ordinalize_flat_type(df_lower_case)\n",
    "\n"
   ],
   "metadata": {
    "collapsed": false,
    "ExecuteTime": {
     "end_time": "2023-11-04T11:39:53.769000800Z",
     "start_time": "2023-11-04T11:39:53.752899100Z"
    }
   }
  },
  {
   "cell_type": "code",
   "execution_count": 24,
   "outputs": [
    {
     "data": {
      "text/plain": "0    3\n1    4\n2    6\n3    5\n4    5\nName: flat_type, dtype: object"
     },
     "execution_count": 24,
     "metadata": {},
     "output_type": "execute_result"
    }
   ],
   "source": [
    "df_ordinal_flat_type[\"flat_type\"].head()"
   ],
   "metadata": {
    "collapsed": false,
    "ExecuteTime": {
     "end_time": "2023-11-04T11:39:54.651185200Z",
     "start_time": "2023-11-04T11:39:54.647159800Z"
    }
   }
  },
  {
   "cell_type": "markdown",
   "source": [
    "### 4.2 Ordinalizing the flat model ( while also considering flat type)"
   ],
   "metadata": {
    "collapsed": false
   }
  },
  {
   "cell_type": "code",
   "execution_count": 31,
   "outputs": [
    {
     "name": "stdout",
     "output_type": "stream",
     "text": [
      "Number of columns BEFORE combined_column column deletion = 18\n",
      "Number of columns AFTER combined_column column deletion = 17\n",
      "Number of columns BEFORE flat_model column deletion = 17\n",
      "Number of columns AFTER flat_model column deletion = 16\n"
     ]
    }
   ],
   "source": [
    "df = df_ordinal_flat_type\n",
    "\n",
    "#combining the flat-type and flat-model into one concatenated string\n",
    "df['combined_column'] = df['flat_type'].astype(str) + df['flat_model'].str.replace(' ', '')\n",
    "combined_values = df['combined_column'].unique()\n",
    "\n",
    "# for each combination we are keeping track of the min and max values\n",
    "flat_combos = dict()\n",
    "for value in combined_values:\n",
    "    min_val = df[df['combined_column'] == value]['floor_area_sqm'].min()\n",
    "    max_val = df[df['combined_column'] == value]['floor_area_sqm'].max()\n",
    "    flat_combos[value] = {\n",
    "        \"min_sqm\": min_val,\n",
    "        \"max_sqm\": max_val\n",
    "    }\n",
    "\n",
    "#find the average flat_sq area\n",
    "for flat_combo in flat_combos.keys():\n",
    "    flat_combos[flat_combo] = flat_combos[flat_combo][\"min_sqm\"] + flat_combos[flat_combo][\"max_sqm\"]\n",
    "\n",
    "#sort by flat sq area\n",
    "flat_combo_ordinal = {}\n",
    "sort_flat_combos_by_area = sorted(flat_combos.items(), key=lambda combo: combo[1])\n",
    "\n",
    "#find the ordinalily by finding the index of the flat combo after sorting by avg sqm\n",
    "for item in sort_flat_combos_by_area:\n",
    "    flat_combo, avg_sqm = item\n",
    "    flat_combo_ordinal[flat_combo] = sort_flat_combos_by_area.index(item)\n",
    "\n",
    "df['flat_type_model'] = df.apply(lambda x: flat_combo_ordinal[str(x['combined_column'])], axis=1)\n",
    "\n",
    "#deleting unnecessary columns\n",
    "df = delete_column(df, 'combined_column')\n",
    "df_flat_type_ordinality = delete_column(df, 'flat_model')"
   ],
   "metadata": {
    "collapsed": false,
    "ExecuteTime": {
     "end_time": "2023-11-04T11:44:19.610083Z",
     "start_time": "2023-11-04T11:44:19.148513Z"
    }
   }
  },
  {
   "cell_type": "code",
   "execution_count": 32,
   "outputs": [
    {
     "data": {
      "text/plain": "0    13\n1    21\n2    32\n3    25\n4    28\nName: flat_type_model, dtype: int64"
     },
     "execution_count": 32,
     "metadata": {},
     "output_type": "execute_result"
    }
   ],
   "source": [
    "df_flat_type_ordinality[\"flat_type_model\"].head()"
   ],
   "metadata": {
    "collapsed": false,
    "ExecuteTime": {
     "end_time": "2023-11-04T11:44:23.512239200Z",
     "start_time": "2023-11-04T11:44:23.494330100Z"
    }
   }
  },
  {
   "cell_type": "markdown",
   "source": [
    "## 5. One hot encoding"
   ],
   "metadata": {
    "collapsed": false
   }
  },
  {
   "cell_type": "markdown",
   "source": [
    "### 5.1 One hot encoding region"
   ],
   "metadata": {
    "collapsed": false
   }
  },
  {
   "cell_type": "code",
   "execution_count": 33,
   "outputs": [],
   "source": [
    "df_onehot = pd.get_dummies(df_flat_type_ordinality, columns=['region'], prefix=['region'])"
   ],
   "metadata": {
    "collapsed": false,
    "ExecuteTime": {
     "end_time": "2023-11-04T11:44:31.297036900Z",
     "start_time": "2023-11-04T11:44:31.276862600Z"
    }
   }
  },
  {
   "cell_type": "markdown",
   "source": [
    "### 5.2 One hot encoding town"
   ],
   "metadata": {
    "collapsed": false
   }
  },
  {
   "cell_type": "code",
   "execution_count": 34,
   "outputs": [],
   "source": [
    "df_onehot = pd.get_dummies(df_onehot, columns=['town'], prefix=['town'])"
   ],
   "metadata": {
    "collapsed": false,
    "ExecuteTime": {
     "end_time": "2023-11-04T11:44:34.982370400Z",
     "start_time": "2023-11-04T11:44:34.956847200Z"
    }
   }
  },
  {
   "cell_type": "markdown",
   "source": [
    "## 6. Removing duplicate rows"
   ],
   "metadata": {
    "collapsed": false
   }
  },
  {
   "cell_type": "code",
   "execution_count": 35,
   "outputs": [
    {
     "name": "stdout",
     "output_type": "stream",
     "text": [
      "Number of duplicates =  523\n",
      "Number of rows before duplicate deletion =  60000\n",
      "Number of rows after duplicate deletion =  59477\n"
     ]
    }
   ],
   "source": [
    "df_no_duplicate = duplicate(df_onehot)"
   ],
   "metadata": {
    "collapsed": false,
    "ExecuteTime": {
     "end_time": "2023-11-04T11:44:39.526723100Z",
     "start_time": "2023-11-04T11:44:39.420893500Z"
    }
   }
  },
  {
   "cell_type": "markdown",
   "source": [
    "# Ensuring that columns are normalized\n",
    "\n",
    "The following columns need to be normalized:\n",
    "1. rent_approval_date: as it is now a unix timestamp\n",
    "2. lease_commense_date: as it is just an year value\n",
    "3. floor_area_sqm\n",
    "4. all the distance values computed to mrt, school and malls\n",
    "5. coe_price_indicator (from auxiliary dataset)\n",
    "6. stock_price (from auxiliary dataset)"
   ],
   "metadata": {
    "collapsed": false
   }
  },
  {
   "cell_type": "code",
   "execution_count": null,
   "outputs": [],
   "source": [
    "df_unnormalized = normalize_column(df_no_duplicate, \"rent_approval_date\")\n",
    "df_unnormalized = normalize_column(df_unnormalized, \"lease_commence_date\")\n",
    "df_unnormalized = normalize_column(df_unnormalized, \"floor_area_sqm\")\n",
    "df_unnormalized = normalize_column(df_unnormalized, \"distance_to_nearest_existing_mrt\")\n",
    "df_unnormalized = normalize_column(df_unnormalized, \"distance_to_nearest_planned_mrt\")\n",
    "df_unnormalized = normalize_column(df_unnormalized, \"distance_to_nearest_school\")\n",
    "df_unnormalized = normalize_column(df_unnormalized, \"distance_to_nearest_mall\")\n",
    "df_unnormalized = normalize_column(df_unnormalized, \"coe_price_indicator\")\n",
    "df_normalized = normalize_column(df_unnormalized, \"stock_price\")"
   ],
   "metadata": {
    "collapsed": false
   }
  },
  {
   "cell_type": "markdown",
   "source": [
    "# Checking out how the final cleaned dataset looks like"
   ],
   "metadata": {
    "collapsed": false
   }
  },
  {
   "cell_type": "code",
   "execution_count": 37,
   "outputs": [
    {
     "data": {
      "text/plain": "   rent_approval_date flat_type  floor_area_sqm  lease_commence_date  \\\n0             0.26674         3        0.182320             0.320755   \n1             0.26674         4        0.281768             0.716981   \n2             0.26674         6        0.596685             0.641509   \n3             0.26674         5        0.419890             0.660377   \n4             0.26674         5        0.480663             0.396226   \n\n   latitude   longitude  monthly_rent  distance_to_nearest_existing_mrt  \\\n0  1.344518  103.738630        1600.0                          0.271900   \n1  1.398524  103.903863        2400.0                          0.265562   \n2  1.378101  103.736002        1800.0                          0.490368   \n3  1.447534  103.817892        2100.0                          0.108178   \n4  1.347017  103.849987        2750.0                          0.167685   \n\n   distance_to_nearest_planned_mrt  distance_to_nearest_school  ...  \\\n0                         0.067848                    0.143355  ...   \n1                         0.077554                    0.212643  ...   \n2                         0.124587                    0.083780  ...   \n3                         0.908049                    0.197100  ...   \n4                         0.228855                    0.282732  ...   \n\n   town_pasir ris  town_punggol  town_queenstown  town_sembawang  \\\n0               0             0                0               0   \n1               0             1                0               0   \n2               0             0                0               0   \n3               0             0                0               1   \n4               0             0                0               0   \n\n   town_sengkang  town_serangoon  town_tampines  town_toa payoh  \\\n0              0               0              0               0   \n1              0               0              0               0   \n2              0               0              0               0   \n3              0               0              0               0   \n4              0               0              0               0   \n\n   town_woodlands  town_yishun  \n0               0            0  \n1               0            0  \n2               0            0  \n3               0            0  \n4               0            0  \n\n[5 rows x 45 columns]",
      "text/html": "<div>\n<style scoped>\n    .dataframe tbody tr th:only-of-type {\n        vertical-align: middle;\n    }\n\n    .dataframe tbody tr th {\n        vertical-align: top;\n    }\n\n    .dataframe thead th {\n        text-align: right;\n    }\n</style>\n<table border=\"1\" class=\"dataframe\">\n  <thead>\n    <tr style=\"text-align: right;\">\n      <th></th>\n      <th>rent_approval_date</th>\n      <th>flat_type</th>\n      <th>floor_area_sqm</th>\n      <th>lease_commence_date</th>\n      <th>latitude</th>\n      <th>longitude</th>\n      <th>monthly_rent</th>\n      <th>distance_to_nearest_existing_mrt</th>\n      <th>distance_to_nearest_planned_mrt</th>\n      <th>distance_to_nearest_school</th>\n      <th>...</th>\n      <th>town_pasir ris</th>\n      <th>town_punggol</th>\n      <th>town_queenstown</th>\n      <th>town_sembawang</th>\n      <th>town_sengkang</th>\n      <th>town_serangoon</th>\n      <th>town_tampines</th>\n      <th>town_toa payoh</th>\n      <th>town_woodlands</th>\n      <th>town_yishun</th>\n    </tr>\n  </thead>\n  <tbody>\n    <tr>\n      <th>0</th>\n      <td>0.26674</td>\n      <td>3</td>\n      <td>0.182320</td>\n      <td>0.320755</td>\n      <td>1.344518</td>\n      <td>103.738630</td>\n      <td>1600.0</td>\n      <td>0.271900</td>\n      <td>0.067848</td>\n      <td>0.143355</td>\n      <td>...</td>\n      <td>0</td>\n      <td>0</td>\n      <td>0</td>\n      <td>0</td>\n      <td>0</td>\n      <td>0</td>\n      <td>0</td>\n      <td>0</td>\n      <td>0</td>\n      <td>0</td>\n    </tr>\n    <tr>\n      <th>1</th>\n      <td>0.26674</td>\n      <td>4</td>\n      <td>0.281768</td>\n      <td>0.716981</td>\n      <td>1.398524</td>\n      <td>103.903863</td>\n      <td>2400.0</td>\n      <td>0.265562</td>\n      <td>0.077554</td>\n      <td>0.212643</td>\n      <td>...</td>\n      <td>0</td>\n      <td>1</td>\n      <td>0</td>\n      <td>0</td>\n      <td>0</td>\n      <td>0</td>\n      <td>0</td>\n      <td>0</td>\n      <td>0</td>\n      <td>0</td>\n    </tr>\n    <tr>\n      <th>2</th>\n      <td>0.26674</td>\n      <td>6</td>\n      <td>0.596685</td>\n      <td>0.641509</td>\n      <td>1.378101</td>\n      <td>103.736002</td>\n      <td>1800.0</td>\n      <td>0.490368</td>\n      <td>0.124587</td>\n      <td>0.083780</td>\n      <td>...</td>\n      <td>0</td>\n      <td>0</td>\n      <td>0</td>\n      <td>0</td>\n      <td>0</td>\n      <td>0</td>\n      <td>0</td>\n      <td>0</td>\n      <td>0</td>\n      <td>0</td>\n    </tr>\n    <tr>\n      <th>3</th>\n      <td>0.26674</td>\n      <td>5</td>\n      <td>0.419890</td>\n      <td>0.660377</td>\n      <td>1.447534</td>\n      <td>103.817892</td>\n      <td>2100.0</td>\n      <td>0.108178</td>\n      <td>0.908049</td>\n      <td>0.197100</td>\n      <td>...</td>\n      <td>0</td>\n      <td>0</td>\n      <td>0</td>\n      <td>1</td>\n      <td>0</td>\n      <td>0</td>\n      <td>0</td>\n      <td>0</td>\n      <td>0</td>\n      <td>0</td>\n    </tr>\n    <tr>\n      <th>4</th>\n      <td>0.26674</td>\n      <td>5</td>\n      <td>0.480663</td>\n      <td>0.396226</td>\n      <td>1.347017</td>\n      <td>103.849987</td>\n      <td>2750.0</td>\n      <td>0.167685</td>\n      <td>0.228855</td>\n      <td>0.282732</td>\n      <td>...</td>\n      <td>0</td>\n      <td>0</td>\n      <td>0</td>\n      <td>0</td>\n      <td>0</td>\n      <td>0</td>\n      <td>0</td>\n      <td>0</td>\n      <td>0</td>\n      <td>0</td>\n    </tr>\n  </tbody>\n</table>\n<p>5 rows × 45 columns</p>\n</div>"
     },
     "execution_count": 37,
     "metadata": {},
     "output_type": "execute_result"
    }
   ],
   "source": [
    "df_normalized.head()"
   ],
   "metadata": {
    "collapsed": false,
    "ExecuteTime": {
     "end_time": "2023-11-04T11:44:51.766890Z",
     "start_time": "2023-11-04T11:44:51.757300900Z"
    }
   }
  }
 ]
}
