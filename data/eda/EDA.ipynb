{
 "nbformat": 4,
 "nbformat_minor": 0,
 "metadata": {
  "colab": {
   "provenance": []
  },
  "kernelspec": {
   "name": "python3",
   "language": "python",
   "display_name": "Python 3 (ipykernel)"
  },
  "language_info": {
   "name": "python"
  }
 },
 "cells": [
  {
   "cell_type": "markdown",
   "source": [],
   "metadata": {
    "id": "n27SgiWBxp-3"
   }
  },
  {
   "cell_type": "markdown",
   "source": [
    "# Importing required packages"
   ],
   "metadata": {
    "collapsed": false
   }
  },
  {
   "cell_type": "code",
   "execution_count": 5,
   "metadata": {
    "colab": {
     "base_uri": "https://localhost:8080/"
    },
    "id": "0jsAGG5NuTZc",
    "outputId": "f785a101-2fb2-4ac9-8f17-20205f3e481c",
    "ExecuteTime": {
     "end_time": "2023-11-04T10:48:11.363573500Z",
     "start_time": "2023-11-04T10:48:11.332261Z"
    }
   },
   "outputs": [],
   "source": [
    "import pandas as pd\n",
    "import sys\n",
    "import os\n",
    "from process import *\n",
    "from process_coe_prices import *\n",
    "from process_stock_prices import *\n",
    "from process_main_dataset import *\n",
    "from process_location_info import *"
   ]
  },
  {
   "cell_type": "markdown",
   "source": [
    "# Defining Local paths to datasets"
   ],
   "metadata": {
    "collapsed": false
   }
  },
  {
   "cell_type": "code",
   "execution_count": 3,
   "outputs": [],
   "source": [
    "datasets_path = \"../../../datasets\"\n",
    "train_input_path = f\"{datasets_path}/train.csv\"\n",
    "test_input_path = f\"{datasets_path}/test.csv\"\n",
    "mrt_input_path = f\"{datasets_path}/auxiliary-data/sg-mrt-existing-stations.csv\"\n",
    "mrt_planned_input_path = f\"{datasets_path}/auxiliary-data/sg-mrt-planned-stations.csv\"\n",
    "mall_input_path = f\"{datasets_path}/auxiliary-data/sg-shopping-malls.csv\"\n",
    "school_input_path = f\"{datasets_path}/auxiliary-data/sg-primary-schools.csv\"\n",
    "coe_input_path = f\"{datasets_path}/auxiliary-data/sg-coe-prices.csv\"\n",
    "stocks_input_path = f\"{datasets_path}/auxiliary-data/sg-stock-prices.csv\""
   ],
   "metadata": {
    "collapsed": false,
    "ExecuteTime": {
     "end_time": "2023-11-04T10:47:38.422414700Z",
     "start_time": "2023-11-04T10:47:38.413914200Z"
    }
   }
  },
  {
   "cell_type": "markdown",
   "source": [
    "# Other Constants which are needed"
   ],
   "metadata": {
    "collapsed": false
   }
  },
  {
   "cell_type": "code",
   "execution_count": 3,
   "outputs": [],
   "source": [
    "month_to_num_map = {\n",
    "    \"january\": \"01\",\n",
    "    \"february\": \"02\",\n",
    "    \"march\": \"03\",\n",
    "    \"april\": \"04\",\n",
    "    \"may\": \"05\",\n",
    "    \"june\": \"06\",\n",
    "    \"july\": \"07\",\n",
    "    \"august\": \"08\",\n",
    "    \"september\": \"09\",\n",
    "    \"october\": \"10\",\n",
    "    \"november\": \"11\",\n",
    "    \"december\": \"12\",\n",
    "}\n"
   ],
   "metadata": {
    "collapsed": false,
    "ExecuteTime": {
     "end_time": "2023-11-04T03:38:18.541268900Z",
     "start_time": "2023-11-04T03:38:18.525210900Z"
    }
   }
  },
  {
   "cell_type": "markdown",
   "source": [
    "# 1. Analysing the COE Auxilary dataset\n",
    "\n",
    "<b><u> What is the dataset about mainly </u></b>\n",
    "\n",
    "In the context of Singapore cars, \"COE\" stands for \"Certificate of Entitlement.\" It is a unique and significant component of Singapore's vehicle ownership and registration system. The COE is essentially a license that grants the holder the right to register, own, and use a vehicle in Singapore for a specific period, usually ten years.\n",
    "\n",
    "There is usually a bidding process where a car of a particular category is usually auctioned off.\n",
    "\n",
    "The COE system is implemented in Singapore as a measure to regulate and control the number of vehicles on the road due to limited land resources and congestion issues. It also serves as a revenue source for the government.\n",
    "\n",
    "<b><u> Explanation of each field </u></b>\n",
    "\n",
    "1. year-month : year and month when a particular car was auctioned\n",
    "2. category: category of car (e.g. luxury, sport, trucks etc). There is some ordinality here but we are not considering it since we will look at the price instead\n",
    "3. bidding: the bidding round when the car was auctioned\n",
    "4. quota: what is the quota of no of bids accepted\n",
    "5. bids: No of bids people raised in the interest of buying a particular car\n",
    "6. price: the final price the car got sold for\n",
    "\n",
    "<b><u> What can we extract from this? </u></b>\n",
    "\n",
    "With this dataset we can indirectly infer the current economic conditions as the more no of people who are ready to buy a car indicates how \"well off\" people are financially to even consider such an option.\n",
    "\n",
    "Based on the ratio of the number of bids to the existing quota it shows the \"interest\" of how contested/popular a particular car is\n",
    "\n",
    "<b><u> What is the output we are extracting </u></b>\n",
    "\n",
    "We will come up with a \"coe-indicator\" score which is a number which represents the state of the economy for a particular month. How we come up with this number will be explained below"
   ],
   "metadata": {
    "id": "QBPuO4t62jTg"
   }
  },
  {
   "cell_type": "code",
   "execution_count": 4,
   "outputs": [],
   "source": [
    "# read the input df\n",
    "coe_prices_df = pd.read_csv(coe_inp_path)\n",
    "\n",
    "#transform the month to a number based on the map defined earlier\n",
    "coe_prices_df[\"month\"] = coe_prices_df[\"month\"].map(month_to_num_map)\n",
    "\n",
    "# create a new column called year which is of format YYYY-mm\n",
    "coe_prices_df[\"date\"] = pd.to_datetime(coe_prices_df['year'].astype(str) + '-' + coe_prices_df['month'].astype(str), format=\"%Y-%m\").dt.strftime('%Y-%m')\n",
    "\n"
   ],
   "metadata": {
    "collapsed": false,
    "ExecuteTime": {
     "end_time": "2023-11-04T03:38:19.832768200Z",
     "start_time": "2023-11-04T03:38:19.801069100Z"
    }
   }
  },
  {
   "cell_type": "markdown",
   "source": [
    "## Creating a price indicator\n",
    "\n",
    "Here as you can see we essentially do\n",
    "\n",
    "(bids/quota) * price\n",
    "\n",
    "which means out of the existing quota, how many bids came for a particular car category multiplied with the price.\n",
    "\n",
    "This ratio can be both >1 or <1 as that is an indication of how \"interested\" people are to buy this particular car.\n",
    "\n",
    "We find this indicator and then do min-max normalization"
   ],
   "metadata": {
    "collapsed": false
   }
  },
  {
   "cell_type": "code",
   "execution_count": 5,
   "outputs": [],
   "source": [
    "# getting price indicator for each row\n",
    "coe_prices_df[\"coe_price_indicator\"] = (coe_prices_df[\"bids\"] / coe_prices_df[\"quota\"]) * coe_prices_df[\"price\"]\n",
    "\n",
    "# normalize the price indicator values between 0-1\n",
    "coe_prices_price_indicator_min = coe_prices_df[\"coe_price_indicator\"].min()\n",
    "coe_prices_price_indicator_max = coe_prices_df[\"coe_price_indicator\"].max()\n",
    "coe_prices_df[\"coe_price_indicator\"] = (coe_prices_df[\"coe_price_indicator\"] - coe_prices_price_indicator_min) / (\n",
    "        coe_prices_price_indicator_max - coe_prices_price_indicator_min)"
   ],
   "metadata": {
    "collapsed": false,
    "ExecuteTime": {
     "end_time": "2023-11-04T03:38:20.646643500Z",
     "start_time": "2023-11-04T03:38:20.631008400Z"
    }
   }
  },
  {
   "cell_type": "markdown",
   "source": [
    "## Finding cummulative month wise statistics\n",
    "\n",
    "1. We first perform grouping across date & category and taking the mean of the coe-indicator.\n",
    "2. Using this df , we find out the total coe_price across all categories.\n",
    "\n",
    "Eventually this will give us some number which is indicative of the economic condition for every month across all categories of cars"
   ],
   "metadata": {
    "collapsed": false
   }
  },
  {
   "cell_type": "code",
   "execution_count": 6,
   "outputs": [],
   "source": [
    "# grouping by year and category\n",
    "avg_price_indicator_per_month_per_category = coe_prices_df.groupby([\"date\", \"category\"])[\n",
    "    \"coe_price_indicator\"].mean().reset_index()\n",
    "total_price_indicator_per_month = avg_price_indicator_per_month_per_category.groupby([\"date\"])[\n",
    "    \"coe_price_indicator\"].sum().reset_index()"
   ],
   "metadata": {
    "collapsed": false,
    "ExecuteTime": {
     "end_time": "2023-11-04T03:38:22.765276900Z",
     "start_time": "2023-11-04T03:38:22.749649600Z"
    }
   }
  },
  {
   "cell_type": "code",
   "execution_count": 7,
   "outputs": [
    {
     "data": {
      "text/plain": "       date  coe_price_indicator\n0   2021-01             0.251816\n1   2021-02             0.208422\n2   2021-03             0.185832\n3   2021-04             0.572866\n4   2021-05             0.424839\n5   2021-06             0.454947\n6   2021-07             0.425407\n7   2021-08             0.476939\n8   2021-09             0.559383\n9   2021-10             0.849635\n10  2021-11             0.796442\n11  2021-12             0.742012\n12  2022-01             0.727326\n13  2022-02             1.117703\n14  2022-03             1.387612\n15  2022-04             1.183096\n16  2022-05             1.011901\n17  2022-06             1.306900\n18  2022-07             1.301203\n19  2022-08             1.467016\n20  2022-09             1.432383\n21  2022-10             1.579188\n22  2022-11             1.764207\n23  2022-12             1.636567\n24  2023-01             1.682889\n25  2023-02             2.117323\n26  2023-03             1.907125\n27  2023-04             1.970338\n28  2023-05             2.082222\n29  2023-06             2.289514",
      "text/html": "<div>\n<style scoped>\n    .dataframe tbody tr th:only-of-type {\n        vertical-align: middle;\n    }\n\n    .dataframe tbody tr th {\n        vertical-align: top;\n    }\n\n    .dataframe thead th {\n        text-align: right;\n    }\n</style>\n<table border=\"1\" class=\"dataframe\">\n  <thead>\n    <tr style=\"text-align: right;\">\n      <th></th>\n      <th>date</th>\n      <th>coe_price_indicator</th>\n    </tr>\n  </thead>\n  <tbody>\n    <tr>\n      <th>0</th>\n      <td>2021-01</td>\n      <td>0.251816</td>\n    </tr>\n    <tr>\n      <th>1</th>\n      <td>2021-02</td>\n      <td>0.208422</td>\n    </tr>\n    <tr>\n      <th>2</th>\n      <td>2021-03</td>\n      <td>0.185832</td>\n    </tr>\n    <tr>\n      <th>3</th>\n      <td>2021-04</td>\n      <td>0.572866</td>\n    </tr>\n    <tr>\n      <th>4</th>\n      <td>2021-05</td>\n      <td>0.424839</td>\n    </tr>\n    <tr>\n      <th>5</th>\n      <td>2021-06</td>\n      <td>0.454947</td>\n    </tr>\n    <tr>\n      <th>6</th>\n      <td>2021-07</td>\n      <td>0.425407</td>\n    </tr>\n    <tr>\n      <th>7</th>\n      <td>2021-08</td>\n      <td>0.476939</td>\n    </tr>\n    <tr>\n      <th>8</th>\n      <td>2021-09</td>\n      <td>0.559383</td>\n    </tr>\n    <tr>\n      <th>9</th>\n      <td>2021-10</td>\n      <td>0.849635</td>\n    </tr>\n    <tr>\n      <th>10</th>\n      <td>2021-11</td>\n      <td>0.796442</td>\n    </tr>\n    <tr>\n      <th>11</th>\n      <td>2021-12</td>\n      <td>0.742012</td>\n    </tr>\n    <tr>\n      <th>12</th>\n      <td>2022-01</td>\n      <td>0.727326</td>\n    </tr>\n    <tr>\n      <th>13</th>\n      <td>2022-02</td>\n      <td>1.117703</td>\n    </tr>\n    <tr>\n      <th>14</th>\n      <td>2022-03</td>\n      <td>1.387612</td>\n    </tr>\n    <tr>\n      <th>15</th>\n      <td>2022-04</td>\n      <td>1.183096</td>\n    </tr>\n    <tr>\n      <th>16</th>\n      <td>2022-05</td>\n      <td>1.011901</td>\n    </tr>\n    <tr>\n      <th>17</th>\n      <td>2022-06</td>\n      <td>1.306900</td>\n    </tr>\n    <tr>\n      <th>18</th>\n      <td>2022-07</td>\n      <td>1.301203</td>\n    </tr>\n    <tr>\n      <th>19</th>\n      <td>2022-08</td>\n      <td>1.467016</td>\n    </tr>\n    <tr>\n      <th>20</th>\n      <td>2022-09</td>\n      <td>1.432383</td>\n    </tr>\n    <tr>\n      <th>21</th>\n      <td>2022-10</td>\n      <td>1.579188</td>\n    </tr>\n    <tr>\n      <th>22</th>\n      <td>2022-11</td>\n      <td>1.764207</td>\n    </tr>\n    <tr>\n      <th>23</th>\n      <td>2022-12</td>\n      <td>1.636567</td>\n    </tr>\n    <tr>\n      <th>24</th>\n      <td>2023-01</td>\n      <td>1.682889</td>\n    </tr>\n    <tr>\n      <th>25</th>\n      <td>2023-02</td>\n      <td>2.117323</td>\n    </tr>\n    <tr>\n      <th>26</th>\n      <td>2023-03</td>\n      <td>1.907125</td>\n    </tr>\n    <tr>\n      <th>27</th>\n      <td>2023-04</td>\n      <td>1.970338</td>\n    </tr>\n    <tr>\n      <th>28</th>\n      <td>2023-05</td>\n      <td>2.082222</td>\n    </tr>\n    <tr>\n      <th>29</th>\n      <td>2023-06</td>\n      <td>2.289514</td>\n    </tr>\n  </tbody>\n</table>\n</div>"
     },
     "execution_count": 7,
     "metadata": {},
     "output_type": "execute_result"
    }
   ],
   "source": [
    "total_price_indicator_per_month.head(30)"
   ],
   "metadata": {
    "collapsed": false,
    "ExecuteTime": {
     "end_time": "2023-11-04T03:38:23.424039400Z",
     "start_time": "2023-11-04T03:38:23.403553900Z"
    }
   }
  },
  {
   "cell_type": "markdown",
   "source": [
    "## What to do about the missing months?\n",
    "\n",
    "Since there are few months which dont have any coe-indicator value, we basically do imputation by finding the mean for that year and then assign those values"
   ],
   "metadata": {
    "collapsed": false
   }
  },
  {
   "cell_type": "code",
   "execution_count": 8,
   "outputs": [],
   "source": [
    "# Create a date range with all months from the minimum to maximum date\n",
    "start_date = pd.to_datetime('2021-01', format='%Y-%m')\n",
    "end_date = pd.to_datetime('2023-12', format='%Y-%m')\n",
    "date_range = pd.date_range(start=start_date, end=end_date, freq='M')\n",
    "date_df = pd.DataFrame({'date': date_range})\n",
    "date_df[\"date\"] = date_df[\"date\"].dt.strftime('%Y-%m')\n",
    "\n",
    "# Merge date_df with total_price_indicator_per_month to fill missing months\n",
    "merged_df = date_df.merge(total_price_indicator_per_month, on='date', how='left')\n",
    "\n",
    "# adding month and the year as separate columns\n",
    "merged_df[[\"year\", \"month\"]] = merged_df[\"date\"].str.split(\"-\", expand=True)\n",
    "total_price_indicator_per_month[[\"year\", \"month\"]] = total_price_indicator_per_month[\"date\"].str.split(\"-\", expand=True)\n",
    "\n",
    "# Fill missing prices with the calculated average\n",
    "average_price_by_year = total_price_indicator_per_month.groupby([\"year\"])['coe_price_indicator'].mean()\n",
    "\n",
    "# Apply the fill_missing_with_average function to fill missing values\n",
    "merged_df['coe_price_indicator'] = merged_df.apply(\n",
    "    lambda row: average_price_by_year.get(row[\"year\"], 0) if pd.isna(row['coe_price_indicator']) else row['coe_price_indicator']\n",
    "    , axis=1\n",
    ")\n",
    "\n",
    "# drop the year and month from this\n",
    "merged_df = merged_df.drop(columns=[\"year\", \"month\"])\n",
    "\n",
    "# we will now have the coe_price_indicator for all months across all the years shown in the test dataset. (which is 2021 -> 2023)"
   ],
   "metadata": {
    "collapsed": false,
    "ExecuteTime": {
     "end_time": "2023-11-04T03:38:24.891706200Z",
     "start_time": "2023-11-04T03:38:24.876080Z"
    }
   }
  },
  {
   "cell_type": "code",
   "execution_count": 9,
   "outputs": [
    {
     "data": {
      "text/plain": "       date  coe_price_indicator\n0   2021-01             0.251816\n1   2021-02             0.208422\n2   2021-03             0.185832\n3   2021-04             0.572866\n4   2021-05             0.424839\n5   2021-06             0.454947\n6   2021-07             0.425407\n7   2021-08             0.476939\n8   2021-09             0.559383\n9   2021-10             0.849635\n10  2021-11             0.796442\n11  2021-12             0.742012\n12  2022-01             0.727326\n13  2022-02             1.117703\n14  2022-03             1.387612\n15  2022-04             1.183096\n16  2022-05             1.011901\n17  2022-06             1.306900\n18  2022-07             1.301203\n19  2022-08             1.467016",
      "text/html": "<div>\n<style scoped>\n    .dataframe tbody tr th:only-of-type {\n        vertical-align: middle;\n    }\n\n    .dataframe tbody tr th {\n        vertical-align: top;\n    }\n\n    .dataframe thead th {\n        text-align: right;\n    }\n</style>\n<table border=\"1\" class=\"dataframe\">\n  <thead>\n    <tr style=\"text-align: right;\">\n      <th></th>\n      <th>date</th>\n      <th>coe_price_indicator</th>\n    </tr>\n  </thead>\n  <tbody>\n    <tr>\n      <th>0</th>\n      <td>2021-01</td>\n      <td>0.251816</td>\n    </tr>\n    <tr>\n      <th>1</th>\n      <td>2021-02</td>\n      <td>0.208422</td>\n    </tr>\n    <tr>\n      <th>2</th>\n      <td>2021-03</td>\n      <td>0.185832</td>\n    </tr>\n    <tr>\n      <th>3</th>\n      <td>2021-04</td>\n      <td>0.572866</td>\n    </tr>\n    <tr>\n      <th>4</th>\n      <td>2021-05</td>\n      <td>0.424839</td>\n    </tr>\n    <tr>\n      <th>5</th>\n      <td>2021-06</td>\n      <td>0.454947</td>\n    </tr>\n    <tr>\n      <th>6</th>\n      <td>2021-07</td>\n      <td>0.425407</td>\n    </tr>\n    <tr>\n      <th>7</th>\n      <td>2021-08</td>\n      <td>0.476939</td>\n    </tr>\n    <tr>\n      <th>8</th>\n      <td>2021-09</td>\n      <td>0.559383</td>\n    </tr>\n    <tr>\n      <th>9</th>\n      <td>2021-10</td>\n      <td>0.849635</td>\n    </tr>\n    <tr>\n      <th>10</th>\n      <td>2021-11</td>\n      <td>0.796442</td>\n    </tr>\n    <tr>\n      <th>11</th>\n      <td>2021-12</td>\n      <td>0.742012</td>\n    </tr>\n    <tr>\n      <th>12</th>\n      <td>2022-01</td>\n      <td>0.727326</td>\n    </tr>\n    <tr>\n      <th>13</th>\n      <td>2022-02</td>\n      <td>1.117703</td>\n    </tr>\n    <tr>\n      <th>14</th>\n      <td>2022-03</td>\n      <td>1.387612</td>\n    </tr>\n    <tr>\n      <th>15</th>\n      <td>2022-04</td>\n      <td>1.183096</td>\n    </tr>\n    <tr>\n      <th>16</th>\n      <td>2022-05</td>\n      <td>1.011901</td>\n    </tr>\n    <tr>\n      <th>17</th>\n      <td>2022-06</td>\n      <td>1.306900</td>\n    </tr>\n    <tr>\n      <th>18</th>\n      <td>2022-07</td>\n      <td>1.301203</td>\n    </tr>\n    <tr>\n      <th>19</th>\n      <td>2022-08</td>\n      <td>1.467016</td>\n    </tr>\n  </tbody>\n</table>\n</div>"
     },
     "execution_count": 9,
     "metadata": {},
     "output_type": "execute_result"
    }
   ],
   "source": [
    "merged_df.head(20)"
   ],
   "metadata": {
    "collapsed": false,
    "ExecuteTime": {
     "end_time": "2023-11-04T03:38:25.815149700Z",
     "start_time": "2023-11-04T03:38:25.799526500Z"
    }
   }
  },
  {
   "cell_type": "markdown",
   "source": [
    "# 2. Analysing the Stock Auxiliary dataset\n",
    "\n",
    "<b><u> What is the dataset about mainly </u></b>\n",
    "\n",
    "This dataset basically has the trading information for different tickers on different dates along with its opening & closing values\n",
    "\n",
    "<b><u> Explanation of each field </u></b>\n",
    "\n",
    "1. name: Company name\n",
    "2. symbol: Company ticket\n",
    "3. date: exact date\n",
    "4. open: opening price\n",
    "5. high: highest price in a day\n",
    "6. low: lowest price in a day\n",
    "7. close: closing price\n",
    "8. adjusted_close: some financial metric applied on the closing value ( not particularly important what exactly it is)\n",
    "\n",
    "<b><u> What can we extract from this? </u></b>\n",
    "\n",
    "Since we have daily trading prices for each company, we can first find out the monthly average trading price for each company.\n",
    "\n",
    "Using this we can take an average of the trading values across all companies to get one \"score\" which is a number indicating how well all companies performed in a particular month.\n",
    "\n",
    "This score is indirectly indicative of how the economy is performing which will help in house price prediction.\n",
    "\n",
    "\n",
    "<b><u> What is the output we are extracting </u></b>\n",
    "\n",
    "Similar to the coe-indicator we will come up with a stock-indicator which represents the state of the economy. The final output will also basically have month, stock_indicator_score value"
   ],
   "metadata": {
    "collapsed": false
   }
  },
  {
   "cell_type": "code",
   "execution_count": 10,
   "outputs": [],
   "source": [
    "# SOME BASIC PREPROCESSING\n",
    "\n",
    "stock_prices_df = pd.read_csv(stock_inp_path)\n",
    "\n",
    "# we only care about the adjusted close price\n",
    "stock_prices_df[\"stock_price\"] = stock_prices_df[\"adjusted_close\"]\n",
    "stock_prices_df[\"date\"] = pd.to_datetime(stock_prices_df[\"date\"])\n",
    "\n",
    "# Filter rows where the year is greater than or equal to 2021 ( because that is what the testing data has)\n",
    "stock_prices_df = stock_prices_df[stock_prices_df['date'].dt.year >= 2021]\n",
    "\n",
    "# Extract year and month into a new column 'year_month'\n",
    "stock_prices_df['date'] = stock_prices_df['date'].dt.strftime('%Y-%m')\n",
    "\n",
    "# drop unnecessary columns\n",
    "stock_prices_df = stock_prices_df.drop(columns=[\"symbol\", \"open\", \"high\", \"low\", \"close\", \"adjusted_close\"])\n",
    "\n",
    "# normalize the price indicator values between 0-1\n",
    "stock_price_min = stock_prices_df[\"stock_price\"].min()\n",
    "stock_price_max = stock_prices_df[\"stock_price\"].max()\n",
    "stock_prices_df[\"stock_price\"] = (stock_prices_df[\"stock_price\"] - stock_price_min) / (stock_price_max - stock_price_min)\n"
   ],
   "metadata": {
    "collapsed": false,
    "ExecuteTime": {
     "end_time": "2023-11-04T04:22:12.195249700Z",
     "start_time": "2023-11-04T04:22:12.067090600Z"
    }
   }
  },
  {
   "cell_type": "markdown",
   "source": [
    "Grouping by company name and date to find the average monthly closing prices for all companies.\n",
    "\n",
    "Using this we take a mean by grouping on month to find out the \"economic\" state for a particular month across all companies"
   ],
   "metadata": {
    "collapsed": false
   }
  },
  {
   "cell_type": "code",
   "execution_count": 11,
   "outputs": [],
   "source": [
    "# Group by 'name' and 'year_month' to calculate the total stock price for each month for each company\n",
    "stock_prices_for_company_for_month_df = stock_prices_df.groupby(['name', 'date'])['stock_price'].sum().reset_index()\n",
    "\n",
    "# Group by 'date' and find the average stock price across companies for each particular month\n",
    "avg_stock_price_per_month = stock_prices_for_company_for_month_df.groupby([\"date\"])[\"stock_price\"].mean().reset_index()"
   ],
   "metadata": {
    "collapsed": false,
    "ExecuteTime": {
     "end_time": "2023-11-04T04:22:13.420168900Z",
     "start_time": "2023-11-04T04:22:13.404474700Z"
    }
   }
  },
  {
   "cell_type": "markdown",
   "source": [
    "Similar to previous dataset, for missing months we just impute using the average for that year"
   ],
   "metadata": {
    "collapsed": false
   }
  },
  {
   "cell_type": "code",
   "execution_count": 12,
   "outputs": [],
   "source": [
    "# Create a date range with all months from the minimum to maximum date\n",
    "start_date = pd.to_datetime('2021-01', format='%Y-%m')\n",
    "end_date = pd.to_datetime('2024-01', format='%Y-%m')\n",
    "date_range = pd.date_range(start=start_date, end=end_date, freq='M')\n",
    "date_df = pd.DataFrame({'date': date_range})\n",
    "date_df[\"date\"] = date_df[\"date\"].dt.strftime('%Y-%m')\n",
    "\n",
    "# Merge date_df with total_price_indicator_per_month to fill missing months\n",
    "merged_df = date_df.merge(avg_stock_price_per_month, on='date', how='left')\n",
    "\n",
    "# adding month and the year as separate columns\n",
    "merged_df[[\"year\", \"month\"]] = merged_df[\"date\"].str.split(\"-\", expand=True)\n",
    "avg_stock_price_per_month[[\"year\", \"month\"]] = avg_stock_price_per_month[\"date\"].str.split(\"-\", expand=True)\n",
    "\n",
    "# Fill missing prices with the calculated average\n",
    "average_price_by_year = avg_stock_price_per_month.groupby([\"year\"])['stock_price'].mean()\n",
    "\n",
    "# Apply the fill_missing_with_average function to fill missing values\n",
    "merged_df['stock_price'] = merged_df.apply(\n",
    "    lambda row: average_price_by_year.get(row[\"year\"], 0) if pd.isna(row['stock_price']) else row['stock_price']\n",
    "    , axis=1\n",
    ")\n",
    "\n",
    "# drop the year and month from this\n",
    "merged_df = merged_df.drop(columns=[\"year\", \"month\"])"
   ],
   "metadata": {
    "collapsed": false,
    "ExecuteTime": {
     "end_time": "2023-11-04T04:22:14.659282900Z",
     "start_time": "2023-11-04T04:22:14.643249Z"
    }
   }
  },
  {
   "cell_type": "code",
   "execution_count": 13,
   "outputs": [
    {
     "data": {
      "text/plain": "      date  stock_price\n0  2021-01     0.665302\n1  2021-02     0.713294\n2  2021-03     0.830401\n3  2021-04     0.801463\n4  2021-05     0.727715",
      "text/html": "<div>\n<style scoped>\n    .dataframe tbody tr th:only-of-type {\n        vertical-align: middle;\n    }\n\n    .dataframe tbody tr th {\n        vertical-align: top;\n    }\n\n    .dataframe thead th {\n        text-align: right;\n    }\n</style>\n<table border=\"1\" class=\"dataframe\">\n  <thead>\n    <tr style=\"text-align: right;\">\n      <th></th>\n      <th>date</th>\n      <th>stock_price</th>\n    </tr>\n  </thead>\n  <tbody>\n    <tr>\n      <th>0</th>\n      <td>2021-01</td>\n      <td>0.665302</td>\n    </tr>\n    <tr>\n      <th>1</th>\n      <td>2021-02</td>\n      <td>0.713294</td>\n    </tr>\n    <tr>\n      <th>2</th>\n      <td>2021-03</td>\n      <td>0.830401</td>\n    </tr>\n    <tr>\n      <th>3</th>\n      <td>2021-04</td>\n      <td>0.801463</td>\n    </tr>\n    <tr>\n      <th>4</th>\n      <td>2021-05</td>\n      <td>0.727715</td>\n    </tr>\n  </tbody>\n</table>\n</div>"
     },
     "execution_count": 13,
     "metadata": {},
     "output_type": "execute_result"
    }
   ],
   "source": [
    "merged_df.head()"
   ],
   "metadata": {
    "collapsed": false,
    "ExecuteTime": {
     "end_time": "2023-11-04T04:22:15.580077400Z",
     "start_time": "2023-11-04T04:22:15.562860200Z"
    }
   }
  },
  {
   "cell_type": "markdown",
   "source": [
    "# 3. How are we going to use these in our project?\n",
    "\n",
    "Since we have the month and its corresponding indicator values ( both coe & stock) we will use these values and add 2 new columns in the original dataset where we use each row's particular month to fill the value indicator values"
   ],
   "metadata": {
    "collapsed": false
   }
  }
 ]
}
