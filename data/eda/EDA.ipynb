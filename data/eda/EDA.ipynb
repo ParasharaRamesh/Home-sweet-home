{
 "nbformat": 4,
 "nbformat_minor": 0,
 "metadata": {
  "colab": {
   "provenance": []
  },
  "kernelspec": {
   "name": "python3",
   "language": "python",
   "display_name": "Python 3 (ipykernel)"
  },
  "language_info": {
   "name": "python"
  }
 },
 "cells": [
  {
   "cell_type": "markdown",
   "source": [],
   "metadata": {
    "id": "n27SgiWBxp-3"
   }
  },
  {
   "cell_type": "markdown",
   "source": [
    "# Importing required packages"
   ],
   "metadata": {
    "collapsed": false
   }
  },
  {
   "cell_type": "code",
   "execution_count": 5,
   "metadata": {
    "colab": {
     "base_uri": "https://localhost:8080/"
    },
    "id": "0jsAGG5NuTZc",
    "outputId": "f785a101-2fb2-4ac9-8f17-20205f3e481c",
    "ExecuteTime": {
     "end_time": "2023-11-04T10:48:11.363573500Z",
     "start_time": "2023-11-04T10:48:11.332261Z"
    }
   },
   "outputs": [],
   "source": [
    "import pandas as pd\n",
    "import sys\n",
    "import os\n",
    "from process import *\n",
    "from process_coe_prices import *\n",
    "from process_stock_prices import *\n",
    "from process_main_dataset import *\n",
    "from process_location_info import *"
   ]
  },
  {
   "cell_type": "markdown",
   "source": [
    "# Defining Local paths to datasets"
   ],
   "metadata": {
    "collapsed": false
   }
  },
  {
   "cell_type": "code",
   "execution_count": 10,
   "outputs": [],
   "source": [
    "datasets_path = \"../../datasets\"\n",
    "train_input_path = f\"{datasets_path}/train.csv\"\n",
    "test_input_path = f\"{datasets_path}/test.csv\"\n",
    "mrt_input_path = f\"{datasets_path}/auxiliary-data/sg-mrt-existing-stations.csv\"\n",
    "mrt_planned_input_path = f\"{datasets_path}/auxiliary-data/sg-mrt-planned-stations.csv\"\n",
    "mall_input_path = f\"{datasets_path}/auxiliary-data/sg-shopping-malls.csv\"\n",
    "school_input_path = f\"{datasets_path}/auxiliary-data/sg-primary-schools.csv\"\n",
    "coe_input_path = f\"{datasets_path}/auxiliary-data/sg-coe-prices.csv\"\n",
    "stocks_input_path = f\"{datasets_path}/auxiliary-data/sg-stock-prices.csv\""
   ],
   "metadata": {
    "collapsed": false,
    "ExecuteTime": {
     "end_time": "2023-11-04T11:21:16.640552300Z",
     "start_time": "2023-11-04T11:21:16.630340900Z"
    }
   }
  },
  {
   "cell_type": "markdown",
   "source": [
    "# Getting the data from the auxiliary datasets\n",
    "\n",
    "For more details about how we process the individual auxiliary datasets refer to the ipynb notebooks in /data/auxiliary datasets.\n",
    "\n",
    "Once we get the values we add them as new columns in the original train dataset"
   ],
   "metadata": {
    "collapsed": false
   }
  },
  {
   "cell_type": "code",
   "execution_count": 11,
   "outputs": [
    {
     "name": "stdout",
     "output_type": "stream",
     "text": [
      "Finished processing the COE Auxiliary dataset\n",
      "Finished processing the Stock prices Auxiliary dataset\n",
      "Finished calculating the distance to nearest existing mrt\n",
      "Finished calculating the distance to nearest planned mrt\n",
      "Finished calculating the distance to nearest school\n",
      "Finished calculating the distance to nearest mall\n"
     ]
    }
   ],
   "source": [
    "# getting additional details from auxillary datasets\n",
    "# process with coe\n",
    "df_coe = transform_coe_prices(coe_input_path)\n",
    "\n",
    "# process stock information\n",
    "df_stocks = transform_stock_prices(stocks_input_path)\n",
    "\n",
    "# first process and transform the dataset with the distance related values\n",
    "df_with_locations = extract_distance_columns_from_aux_mrt_school_mall(train_input_path, mrt_input_path, mrt_planned_input_path, mall_input_path, school_input_path)\n",
    "\n",
    "#combining all the dataframes\n",
    "df_dirty = merge_dataframes(df_with_locations, df_coe, df_stocks)"
   ],
   "metadata": {
    "collapsed": false,
    "ExecuteTime": {
     "end_time": "2023-11-04T11:21:52.130613500Z",
     "start_time": "2023-11-04T11:21:17.790344600Z"
    }
   }
  },
  {
   "cell_type": "markdown",
   "source": [
    "## Checking out how the dataset looks like now"
   ],
   "metadata": {
    "collapsed": false
   }
  },
  {
   "cell_type": "code",
   "execution_count": 12,
   "outputs": [
    {
     "data": {
      "text/plain": "  rent_approval_date           town block             street_name  flat_type  \\\n0            2021-09    jurong east   257   Jurong East Street 24     3 room   \n1            2021-09        punggol  203a           punggol field     4 room   \n2            2021-09  choa chu kang   458  choa chu kang avenue 4  executive   \n3            2021-09      sembawang  340a         sembawang close     5 room   \n4            2021-09         bishan   117        bishan street 12     5 room   \n\n          flat_model  floor_area_sqm furnished  lease_commence_date  latitude  \\\n0     new generation            67.0       yes               1983.0  1.344518   \n1            model a            85.0       yes               2004.0  1.398524   \n2  premium apartment           142.0       yes               2000.0  1.378101   \n3  premium apartment           110.0       yes               2001.0  1.447534   \n4           improved           121.0       yes               1987.0  1.347017   \n\n   ...            subzone  planning_area             region monthly_rent  \\\n0  ...         yuhua east    jurong east        west region       1600.0   \n1  ...            matilda        punggol  north-east region       2400.0   \n2  ...         peng siang  choa chu kang        west region       1800.0   \n3  ...  sembawang central      sembawang       north region       2100.0   \n4  ...        bishan east         bishan     central region       2750.0   \n\n  distance_to_nearest_existing_mrt  distance_to_nearest_planned_mrt  \\\n0                       699.127003                       675.092874   \n1                       683.672274                       766.323178   \n2                      1231.831781                      1208.372363   \n3                       299.913615                      8571.934879   \n4                       445.013019                      2188.355884   \n\n   distance_to_nearest_school  distance_to_nearest_mall  coe_price_indicator  \\\n0                  334.846135               1202.673513             0.559383   \n1                  476.014557                704.576366             0.559383   \n2                  213.468076                936.378087             0.559383   \n3                  444.346799                189.552356             0.559383   \n4                  618.812729                402.450976             0.559383   \n\n   stock_price  \n0     0.888712  \n1     0.888712  \n2     0.888712  \n3     0.888712  \n4     0.888712  \n\n[5 rows x 22 columns]",
      "text/html": "<div>\n<style scoped>\n    .dataframe tbody tr th:only-of-type {\n        vertical-align: middle;\n    }\n\n    .dataframe tbody tr th {\n        vertical-align: top;\n    }\n\n    .dataframe thead th {\n        text-align: right;\n    }\n</style>\n<table border=\"1\" class=\"dataframe\">\n  <thead>\n    <tr style=\"text-align: right;\">\n      <th></th>\n      <th>rent_approval_date</th>\n      <th>town</th>\n      <th>block</th>\n      <th>street_name</th>\n      <th>flat_type</th>\n      <th>flat_model</th>\n      <th>floor_area_sqm</th>\n      <th>furnished</th>\n      <th>lease_commence_date</th>\n      <th>latitude</th>\n      <th>...</th>\n      <th>subzone</th>\n      <th>planning_area</th>\n      <th>region</th>\n      <th>monthly_rent</th>\n      <th>distance_to_nearest_existing_mrt</th>\n      <th>distance_to_nearest_planned_mrt</th>\n      <th>distance_to_nearest_school</th>\n      <th>distance_to_nearest_mall</th>\n      <th>coe_price_indicator</th>\n      <th>stock_price</th>\n    </tr>\n  </thead>\n  <tbody>\n    <tr>\n      <th>0</th>\n      <td>2021-09</td>\n      <td>jurong east</td>\n      <td>257</td>\n      <td>Jurong East Street 24</td>\n      <td>3 room</td>\n      <td>new generation</td>\n      <td>67.0</td>\n      <td>yes</td>\n      <td>1983.0</td>\n      <td>1.344518</td>\n      <td>...</td>\n      <td>yuhua east</td>\n      <td>jurong east</td>\n      <td>west region</td>\n      <td>1600.0</td>\n      <td>699.127003</td>\n      <td>675.092874</td>\n      <td>334.846135</td>\n      <td>1202.673513</td>\n      <td>0.559383</td>\n      <td>0.888712</td>\n    </tr>\n    <tr>\n      <th>1</th>\n      <td>2021-09</td>\n      <td>punggol</td>\n      <td>203a</td>\n      <td>punggol field</td>\n      <td>4 room</td>\n      <td>model a</td>\n      <td>85.0</td>\n      <td>yes</td>\n      <td>2004.0</td>\n      <td>1.398524</td>\n      <td>...</td>\n      <td>matilda</td>\n      <td>punggol</td>\n      <td>north-east region</td>\n      <td>2400.0</td>\n      <td>683.672274</td>\n      <td>766.323178</td>\n      <td>476.014557</td>\n      <td>704.576366</td>\n      <td>0.559383</td>\n      <td>0.888712</td>\n    </tr>\n    <tr>\n      <th>2</th>\n      <td>2021-09</td>\n      <td>choa chu kang</td>\n      <td>458</td>\n      <td>choa chu kang avenue 4</td>\n      <td>executive</td>\n      <td>premium apartment</td>\n      <td>142.0</td>\n      <td>yes</td>\n      <td>2000.0</td>\n      <td>1.378101</td>\n      <td>...</td>\n      <td>peng siang</td>\n      <td>choa chu kang</td>\n      <td>west region</td>\n      <td>1800.0</td>\n      <td>1231.831781</td>\n      <td>1208.372363</td>\n      <td>213.468076</td>\n      <td>936.378087</td>\n      <td>0.559383</td>\n      <td>0.888712</td>\n    </tr>\n    <tr>\n      <th>3</th>\n      <td>2021-09</td>\n      <td>sembawang</td>\n      <td>340a</td>\n      <td>sembawang close</td>\n      <td>5 room</td>\n      <td>premium apartment</td>\n      <td>110.0</td>\n      <td>yes</td>\n      <td>2001.0</td>\n      <td>1.447534</td>\n      <td>...</td>\n      <td>sembawang central</td>\n      <td>sembawang</td>\n      <td>north region</td>\n      <td>2100.0</td>\n      <td>299.913615</td>\n      <td>8571.934879</td>\n      <td>444.346799</td>\n      <td>189.552356</td>\n      <td>0.559383</td>\n      <td>0.888712</td>\n    </tr>\n    <tr>\n      <th>4</th>\n      <td>2021-09</td>\n      <td>bishan</td>\n      <td>117</td>\n      <td>bishan street 12</td>\n      <td>5 room</td>\n      <td>improved</td>\n      <td>121.0</td>\n      <td>yes</td>\n      <td>1987.0</td>\n      <td>1.347017</td>\n      <td>...</td>\n      <td>bishan east</td>\n      <td>bishan</td>\n      <td>central region</td>\n      <td>2750.0</td>\n      <td>445.013019</td>\n      <td>2188.355884</td>\n      <td>618.812729</td>\n      <td>402.450976</td>\n      <td>0.559383</td>\n      <td>0.888712</td>\n    </tr>\n  </tbody>\n</table>\n<p>5 rows × 22 columns</p>\n</div>"
     },
     "execution_count": 12,
     "metadata": {},
     "output_type": "execute_result"
    }
   ],
   "source": [
    "df_dirty.head()"
   ],
   "metadata": {
    "collapsed": false,
    "ExecuteTime": {
     "end_time": "2023-11-04T11:22:22.980671300Z",
     "start_time": "2023-11-04T11:22:22.965287400Z"
    }
   }
  },
  {
   "cell_type": "markdown",
   "source": [
    "# Cleaning the dataset\n"
   ],
   "metadata": {
    "collapsed": false
   }
  },
  {
   "cell_type": "markdown",
   "source": [
    "## 1. Deleting unnecessary columns"
   ],
   "metadata": {
    "collapsed": false
   }
  },
  {
   "cell_type": "code",
   "execution_count": null,
   "outputs": [],
   "source": [],
   "metadata": {
    "collapsed": false
   }
  },
  {
   "cell_type": "markdown",
   "source": [
    "## 2. Converting all string values to lower"
   ],
   "metadata": {
    "collapsed": false
   }
  },
  {
   "cell_type": "code",
   "execution_count": null,
   "outputs": [],
   "source": [],
   "metadata": {
    "collapsed": false
   }
  },
  {
   "cell_type": "markdown",
   "source": [
    "## 3. Converting the date to unix timestep"
   ],
   "metadata": {
    "collapsed": false
   }
  },
  {
   "cell_type": "code",
   "execution_count": null,
   "outputs": [],
   "source": [],
   "metadata": {
    "collapsed": false
   }
  },
  {
   "cell_type": "markdown",
   "source": [
    "## 4. Finding an ordinal value for flat type and flat model"
   ],
   "metadata": {
    "collapsed": false
   }
  },
  {
   "cell_type": "code",
   "execution_count": null,
   "outputs": [],
   "source": [],
   "metadata": {
    "collapsed": false
   }
  },
  {
   "cell_type": "markdown",
   "source": [
    "## 5. One hot encoding"
   ],
   "metadata": {
    "collapsed": false
   }
  },
  {
   "cell_type": "code",
   "execution_count": null,
   "outputs": [],
   "source": [],
   "metadata": {
    "collapsed": false
   }
  },
  {
   "cell_type": "markdown",
   "source": [
    "## 6. Removing duplicate rows"
   ],
   "metadata": {
    "collapsed": false
   }
  },
  {
   "cell_type": "code",
   "execution_count": null,
   "outputs": [],
   "source": [],
   "metadata": {
    "collapsed": false
   }
  },
  {
   "cell_type": "markdown",
   "source": [
    "# Ensuring that columns are normalized\n",
    "\n",
    "The following columns need to be normalized:\n",
    "1. rent_approval_date: as it is now a unix timestamp\n",
    "2. lease_commense_date: as it is just an year value\n",
    "3. floor_area_sqm\n",
    "4. all the distance values computed to mrt, school and malls\n",
    "5. coe_price_indicator (from auxiliary dataset)\n",
    "6. stock_price (from auxiliary dataset)"
   ],
   "metadata": {
    "collapsed": false
   }
  },
  {
   "cell_type": "code",
   "execution_count": null,
   "outputs": [],
   "source": [
    "df_unnormalized = normalize_column(df_no_duplicate, \"rent_approval_date\")\n",
    "df_unnormalized = normalize_column(df_unnormalized, \"lease_commence_date\")\n",
    "df_unnormalized = normalize_column(df_unnormalized, \"floor_area_sqm\")\n",
    "df_unnormalized = normalize_column(df_unnormalized, \"distance_to_nearest_existing_mrt\")\n",
    "df_unnormalized = normalize_column(df_unnormalized, \"distance_to_nearest_planned_mrt\")\n",
    "df_unnormalized = normalize_column(df_unnormalized, \"distance_to_nearest_school\")\n",
    "df_unnormalized = normalize_column(df_unnormalized, \"distance_to_nearest_mall\")\n",
    "df_unnormalized = normalize_column(df_unnormalized, \"coe_price_indicator\")\n",
    "df_normalized = normalize_column(df_unnormalized, \"stock_price\")"
   ],
   "metadata": {
    "collapsed": false
   }
  },
  {
   "cell_type": "markdown",
   "source": [
    "# Checking out how the final cleaned dataset looks like"
   ],
   "metadata": {
    "collapsed": false
   }
  },
  {
   "cell_type": "code",
   "execution_count": null,
   "outputs": [],
   "source": [
    "df_normalized.head()"
   ],
   "metadata": {
    "collapsed": false
   }
  }
 ]
}
