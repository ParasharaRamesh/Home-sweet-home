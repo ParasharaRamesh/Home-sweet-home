{
  "nbformat": 4,
  "nbformat_minor": 0,
  "metadata": {
    "colab": {
      "provenance": []
    },
    "kernelspec": {
      "name": "python3",
      "display_name": "Python 3"
    },
    "language_info": {
      "name": "python"
    }
  },
  "cells": [
    {
      "cell_type": "markdown",
      "source": [
        "# Import Required Dependencies"
      ],
      "metadata": {
        "id": "Vl31novO4WUG"
      }
    },
    {
      "cell_type": "code",
      "execution_count": 2,
      "metadata": {
        "id": "FLNJwcK14GIk"
      },
      "outputs": [],
      "source": [
        "import os\n",
        "import pandas as pd\n",
        "import numpy as np\n",
        "from google.colab import drive"
      ]
    },
    {
      "cell_type": "markdown",
      "source": [
        "# Mount google drive"
      ],
      "metadata": {
        "id": "RmwDPBDw4aM5"
      }
    },
    {
      "cell_type": "code",
      "source": [
        "drive.mount('/content/drive')"
      ],
      "metadata": {
        "colab": {
          "base_uri": "https://localhost:8080/"
        },
        "id": "GhddreT_4eDL",
        "outputId": "372139b8-d3c4-479a-f173-0d0bee23bed2"
      },
      "execution_count": 3,
      "outputs": [
        {
          "output_type": "stream",
          "name": "stdout",
          "text": [
            "Mounted at /content/drive\n"
          ]
        }
      ]
    },
    {
      "cell_type": "code",
      "source": [
        "drive_path = \"/content/drive/MyDrive\"\n",
        "dataset_path = f\"{drive_path}/Datasets\"\n",
        "transformed_dataset_path = f\"{drive_path}/Datasets/transformed\"\n",
        "\n",
        "transformed_stock_path = f\"{transformed_dataset_path}/sg-stock-prices.csv\"\n",
        "transformed_coe_path = f\"{transformed_dataset_path}/sg-coe-prices.csv\"\n",
        "train_path = f\"{dataset_path}/train.csv\""
      ],
      "metadata": {
        "id": "lS-ZhFCU4hxx"
      },
      "execution_count": 7,
      "outputs": []
    },
    {
      "cell_type": "markdown",
      "source": [
        "# Create a merged dataframe\n",
        "\n",
        "*   Combine the train, coe and stock prices into one single df\n",
        "*   Get 4 columns which are:\n",
        "1. year\n",
        "2. rental_price\n",
        "3. coe_indicator\n",
        "4. stock_indicator\n",
        "\n"
      ],
      "metadata": {
        "id": "KPRdis7J5DqC"
      }
    },
    {
      "cell_type": "code",
      "source": [
        "train_df = pd.read_csv(train_path)\n",
        "coe_df = pd.read_csv(transformed_coe_path)\n",
        "stock_df = pd.read_csv(transformed_stock_path)"
      ],
      "metadata": {
        "id": "fnvEguxU5BbD"
      },
      "execution_count": 8,
      "outputs": []
    },
    {
      "cell_type": "code",
      "source": [
        "train_df[\"date\"] = train_df[\"rent_approval_date\"]\n",
        "train_df = train_df.drop(columns=[\n",
        "  \"town\",\n",
        "  \"block\",\n",
        "  \"street_name\",\n",
        "  \"flat_type\",\n",
        "  \"flat_model\",\n",
        "  \"floor_area_sqm\",\n",
        "  \"furnished\",\n",
        "  \"lease_commence_date\",\n",
        "  \"latitude\",\n",
        "  \"longitude\",\n",
        "  \"elevation\",\n",
        "  \"subzone\",\n",
        "  \"planning_area\",\n",
        "  \"region\",\n",
        "  \"rent_approval_date\"\n",
        "])\n",
        "merged_df = pd.merge(train_df, coe_df, on='date', how='outer')\n",
        "merged_df = pd.merge(merged_df, stock_df, on='date', how='outer')"
      ],
      "metadata": {
        "id": "nVftcqKh59oL"
      },
      "execution_count": 10,
      "outputs": []
    },
    {
      "cell_type": "markdown",
      "source": [
        "# Check what are the correlations\n",
        "\n",
        "Check the correlation between rental_price , coe_indicator, stock_indicator"
      ],
      "metadata": {
        "id": "kBzqBo-n5fiv"
      }
    },
    {
      "cell_type": "code",
      "source": [
        "stock_rent_corr = merged_df[\"monthly_rent\"].corr(merged_df[\"stock_price\"])\n",
        "coe_rent_corr = merged_df[\"monthly_rent\"].corr(merged_df[\"coe_price_indicator\"])\n",
        "stock_coe_corr = merged_df[\"stock_price\"].corr(merged_df[\"coe_price_indicator\"])"
      ],
      "metadata": {
        "id": "sRfBGNZF5hvE"
      },
      "execution_count": 11,
      "outputs": []
    },
    {
      "cell_type": "code",
      "source": [
        "print(f\"Corr between rent <-> stock indicator is {stock_rent_corr}\")\n",
        "print(f\"Corr between rent <-> coe indicator is {coe_rent_corr}\")\n",
        "print(f\"Corr between coe indicator <-> stock indicator is {stock_coe_corr}\")"
      ],
      "metadata": {
        "colab": {
          "base_uri": "https://localhost:8080/"
        },
        "id": "qg5whobgEEyI",
        "outputId": "738d92fe-8af8-4d8b-9f34-b02263753b1f"
      },
      "execution_count": 12,
      "outputs": [
        {
          "output_type": "stream",
          "name": "stdout",
          "text": [
            "Corr between rent <-> stock indicator is -0.43328502262492047\n",
            "Corr between rent <-> coe indicator is 0.5202516167979744\n",
            "Corr between coe indicator <-> stock indicator is -0.754957967077336\n"
          ]
        }
      ]
    },
    {
      "cell_type": "markdown",
      "source": [
        "Since these values are not exactly 0 we can infer that there is some relation between all these 3 values so its better to include these in our dataset."
      ],
      "metadata": {
        "id": "JUoJGvedES15"
      }
    }
  ]
}