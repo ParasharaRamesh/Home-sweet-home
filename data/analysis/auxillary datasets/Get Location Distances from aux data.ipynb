{
 "nbformat": 4,
 "nbformat_minor": 0,
 "metadata": {
  "colab": {
   "provenance": []
  },
  "kernelspec": {
   "name": "python3",
   "language": "python",
   "display_name": "Python 3 (ipykernel)"
  },
  "language_info": {
   "name": "python"
  }
 },
 "cells": [
  {
   "cell_type": "markdown",
   "source": [
    "# Import requried dependencies"
   ],
   "metadata": {
    "id": "n27SgiWBxp-3"
   }
  },
  {
   "cell_type": "code",
   "execution_count": 1,
   "metadata": {
    "colab": {
     "base_uri": "https://localhost:8080/"
    },
    "id": "0jsAGG5NuTZc",
    "outputId": "f785a101-2fb2-4ac9-8f17-20205f3e481c"
   },
   "outputs": [],
   "source": [
    "import os\n",
    "import pandas as pd\n",
    "import numpy as np\n",
    "import math"
   ]
  },
  {
   "cell_type": "markdown",
   "source": [
    "# Defining Local paths to datasets"
   ],
   "metadata": {
    "collapsed": false
   }
  },
  {
   "cell_type": "code",
   "execution_count": 2,
   "outputs": [],
   "source": [
    "datasets_path = \"../../../datasets\"\n",
    "auxillary_path = f\"{datasets_path}/auxiliary-data\"\n",
    "transformed_path = f\"{datasets_path}/transformed\"\n",
    "\n",
    "train_inp_path = f\"{datasets_path}/train.csv\"\n",
    "mrt_existing_inp_path = f\"{auxillary_path}/sg-mrt-existing-stations.csv\"\n",
    "mrt_planned_inp_path = f\"{auxillary_path}/sg-mrt-planned-stations.csv\"\n",
    "primary_schools_inp_path = f\"{auxillary_path}/sg-primary-schools.csv\"\n",
    "shopping_malls_inp_path = f\"{auxillary_path}/sg-shopping-malls.csv\""
   ],
   "metadata": {
    "collapsed": false,
    "ExecuteTime": {
     "end_time": "2023-11-04T07:40:30.661336100Z",
     "start_time": "2023-11-04T07:40:30.652892900Z"
    }
   }
  },
  {
   "cell_type": "markdown",
   "source": [
    "# What are we planning to do ?\n",
    "\n",
    "Since we have the following information:\n",
    "1. existing mrts and their latitude & longitudes\n",
    "2. planned mrts and their latitude & longitudes\n",
    "3. primary schools and their latitude & longitudes\n",
    "4. shopping malls and their latitude & longitudes\n",
    "\n",
    "It is fair to assume that the prices also get influenced by the number of such locations in its vicinity. For e.g. a house next to a mall could potentially be pricy.\n",
    "\n",
    "Since we also have the latitude and longitude for each house, we can find out the distance to the nearest existing/planned mrt, school and shopping mall and add those distances in meters as new columns to our dataset.\n",
    "\n",
    "Our regression models should then have enough context to potentially learn some unseen rules from these newly added columns as well.\n",
    "\n",
    "<b> How do we find distances given a latitude and longitude? </b>\n",
    "\n",
    "There were mainly two options which immediately came to our mind.\n",
    "1. Using google maps api to find out the walking distance to each point\n",
    "2. Using an approximation of \"haversine distance\" to compute the distance along the surface area of earth\n",
    "\n",
    "Option #1 was not feasible given the API prices therefore we are going for a much simpler haversine distance computation"
   ],
   "metadata": {
    "collapsed": false
   }
  },
  {
   "cell_type": "code",
   "execution_count": 3,
   "outputs": [],
   "source": [
    "# For computing haversine distances\n",
    "def haversine_distance(lat1, lon1, lat2, lon2):\n",
    "    '''\n",
    "    Compute the distances between 2 lat and long\n",
    "\n",
    "    :param lat1:\n",
    "    :param lon1:\n",
    "    :param lat2:\n",
    "    :param lon2:\n",
    "    :return:\n",
    "    '''\n",
    "    # Radius of the Earth in kilometers\n",
    "    earth_radius_km = 6371.0\n",
    "\n",
    "    # Convert latitude and longitude from degrees to radians\n",
    "    lat1_rad = math.radians(lat1)\n",
    "    lon1_rad = math.radians(lon1)\n",
    "    lat2_rad = math.radians(lat2)\n",
    "    lon2_rad = math.radians(lon2)\n",
    "\n",
    "    # Haversine formula\n",
    "    dlon = lon2_rad - lon1_rad\n",
    "    dlat = lat2_rad - lat1_rad\n",
    "    a = math.sin(dlat / 2) ** 2 + math.cos(lat1_rad) * math.cos(lat2_rad) * math.sin(dlon / 2) ** 2\n",
    "    c = 2 * math.atan2(math.sqrt(a), math.sqrt(1 - a))\n",
    "\n",
    "    # Calculate the distance\n",
    "    distance = earth_radius_km * c\n",
    "\n",
    "    #returns distance in meters\n",
    "    return distance * 1000\n"
   ],
   "metadata": {
    "collapsed": false,
    "ExecuteTime": {
     "end_time": "2023-11-04T07:40:31.220289500Z",
     "start_time": "2023-11-04T07:40:31.210729Z"
    }
   }
  },
  {
   "cell_type": "markdown",
   "source": [
    "# 0. Reading all the dataframes and doing minor preprocessing steps"
   ],
   "metadata": {
    "collapsed": false
   }
  },
  {
   "cell_type": "code",
   "execution_count": 4,
   "outputs": [],
   "source": [
    "# read all the input dfs\n",
    "df_house = pd.read_csv(train_inp_path)\n",
    "df_mrt = pd.read_csv(mrt_existing_inp_path)\n",
    "df_mrt_planned = pd.read_csv(mrt_planned_inp_path)\n",
    "df_mall = pd.read_csv(shopping_malls_inp_path)\n",
    "df_school = pd.read_csv(primary_schools_inp_path)\n"
   ],
   "metadata": {
    "collapsed": false,
    "ExecuteTime": {
     "end_time": "2023-11-04T07:40:32.233367900Z",
     "start_time": "2023-11-04T07:40:32.148599500Z"
    }
   }
  },
  {
   "cell_type": "code",
   "execution_count": 5,
   "outputs": [],
   "source": [
    "# remove df where the opening year is TBA\n",
    "df_mrt_planned = df_mrt_planned[df_mrt_planned['opening_year'] != 'TBA']\n",
    "\n",
    "# get list of coordinates for everything\n",
    "lat_long_of_houses = list(zip(df_house['latitude'], df_house['longitude']))\n",
    "lat_long_of_mrts = list(zip(df_mrt['latitude'], df_mrt['longitude']))\n",
    "lat_long_of_mrts_planned = list(zip(df_mrt_planned['latitude'], df_mrt_planned['longitude']))\n",
    "lat_long_of_malls = list(zip(df_mall['latitude'], df_mall['longitude']))\n",
    "lat_long_of_school = list(zip(df_school['latitude'], df_school['longitude']))\n",
    "\n",
    "# needed when calculating for planned mrts\n",
    "house_rent_approval_year = df_house['rent_approval_date'].tolist()\n",
    "mrt_opening_year = df_mrt_planned['opening_year'].tolist()"
   ],
   "metadata": {
    "collapsed": false,
    "ExecuteTime": {
     "end_time": "2023-11-04T07:40:32.677814100Z",
     "start_time": "2023-11-04T07:40:32.635443300Z"
    }
   }
  },
  {
   "cell_type": "markdown",
   "source": [
    "# 1. Computing the distances of each house to its nearest existing MRT\n"
   ],
   "metadata": {
    "id": "QBPuO4t62jTg"
   }
  },
  {
   "cell_type": "code",
   "execution_count": 6,
   "outputs": [],
   "source": [
    "def calculate_distance_to_nearest_mrt(list1, list2):\n",
    "    '''\n",
    "    Calculate Haversine distances between all pairs of points in two lists.\n",
    "    Each list contains points represented as (latitude, longitude) tuples.\n",
    "\n",
    "    :param list1:\n",
    "    :param list2:\n",
    "    :return:\n",
    "    '''\n",
    "\n",
    "    distances_to_closest_mrt_for_all_houses = []\n",
    "\n",
    "    for point1 in list1:\n",
    "        lat1, lon1 = point1\n",
    "        distances_to_all_mrts = []\n",
    "        for point2 in list2:\n",
    "            lat2, lon2 = point2\n",
    "            # distance = (geodesic(point1, point2).kilometers ) * 1000\n",
    "            distance = haversine_distance(lat1, lon1, lat2, lon2)\n",
    "            distances_to_all_mrts.append(distance)\n",
    "        distance_to_closest_mrt = min(distances_to_all_mrts)\n",
    "        distances_to_closest_mrt_for_all_houses.append(distance_to_closest_mrt)\n",
    "\n",
    "    return distances_to_closest_mrt_for_all_houses\n"
   ],
   "metadata": {
    "collapsed": false,
    "ExecuteTime": {
     "end_time": "2023-11-04T07:40:33.800326600Z",
     "start_time": "2023-11-04T07:40:33.793290200Z"
    }
   }
  },
  {
   "cell_type": "code",
   "execution_count": 8,
   "outputs": [],
   "source": [
    "# calculate all distances\n",
    "distances_to_closest_mrt_for_all_houses = calculate_distance_to_nearest_mrt(lat_long_of_houses, lat_long_of_mrts)\n",
    "df_house['distance_to_nearest_existing_mrt'] = distances_to_closest_mrt_for_all_houses\n"
   ],
   "metadata": {
    "collapsed": false,
    "ExecuteTime": {
     "end_time": "2023-11-04T07:40:55.645926600Z",
     "start_time": "2023-11-04T07:40:45.771086500Z"
    }
   }
  },
  {
   "cell_type": "markdown",
   "source": [
    "# 2. Computing the distances of each house to its nearest planned MRT\n",
    "\n",
    "Since none of these MRT's exist currently they should not be given the same weightage as existing MRTs.\n",
    "\n",
    "Hence, we defined a damping factor called \"alpha\" which accounts for the expected future distance to the planned MRT while also considering the years of construction left to inaugurate the MRT.\n",
    "<br>\n",
    "$distance\\_to\\_planned\\_mrt = estimated\\_real\\_world\\_distance + 100e^{years\\_left\\_for\\_opening}$\n",
    "<br>\n",
    "The further in future a particular planned MRT is to be opened, the distance to that MRT is also increased accordingly by considering the wait time.\n",
    "\n",
    "This way the values here would represent some kind of \"future reward\" which the model can learn."
   ],
   "metadata": {
    "collapsed": false
   }
  },
  {
   "cell_type": "code",
   "execution_count": 16,
   "outputs": [],
   "source": [
    "def apply_alpha(distance, years):\n",
    "    '''\n",
    "    apply some kind of weight to ensure that future planned MRTs have more distance (to indicate the patience level of the customer)\n",
    "\n",
    "    :param distance:\n",
    "    :param years:\n",
    "    :return:\n",
    "    '''\n",
    "    distance = distance + (math.exp(years) * 100)\n",
    "    return distance\n",
    "\n",
    "\n",
    "def calculate_distance_to_nearest_mrt_planned(lat_long_of_houses, house_rent_approval_year, lat_long_of_mrts, mrt_opening_year):\n",
    "    '''\n",
    "    Calculate Haversine distances between all pairs of points in two lists.\n",
    "    Each list contains points represented as (latitude, longitude) tuples.\n",
    "\n",
    "    :param lat_long_of_houses:\n",
    "    :param house_rent_approval_year:\n",
    "    :param lat_long_of_mrts:\n",
    "    :param mrt_opening_year:\n",
    "    :return:\n",
    "    '''\n",
    "\n",
    "    num_houses = len(lat_long_of_houses)\n",
    "    num_mrt = len(lat_long_of_mrts)\n",
    "    distances_to_closest_mrt_for_all_houses = []\n",
    "\n",
    "    for house_index in range(num_houses):\n",
    "        point1 = lat_long_of_houses[house_index]\n",
    "        lat1, lon1 = point1\n",
    "        distances_to_all_mrts = []\n",
    "\n",
    "        for mrt_index in range(num_mrt):\n",
    "            point2 = lat_long_of_mrts[mrt_index]\n",
    "            lat2, lon2 = point2\n",
    "            distance = haversine_distance(lat1, lon1, lat2, lon2)\n",
    "            distances_to_all_mrts.append(distance)\n",
    "\n",
    "        min_index = distances_to_all_mrts.index(min(distances_to_all_mrts))\n",
    "        distance_to_closest_mrt = distances_to_all_mrts[min_index]\n",
    "        rent_approval_date = house_rent_approval_year[house_index]\n",
    "        rent_approval_year = rent_approval_date.split('-')[0]\n",
    "        metro_opening_year = mrt_opening_year[min_index]\n",
    "\n",
    "        years_left_for_metro_opening = int(rent_approval_year) - int(metro_opening_year)\n",
    "        distance_to_closest_mrt = apply_alpha(distance_to_closest_mrt, years_left_for_metro_opening)\n",
    "        distances_to_closest_mrt_for_all_houses.append(distance_to_closest_mrt)\n",
    "\n",
    "    return distances_to_closest_mrt_for_all_houses\n",
    "\n"
   ],
   "metadata": {
    "collapsed": false,
    "ExecuteTime": {
     "end_time": "2023-11-04T07:51:27.755473400Z",
     "start_time": "2023-11-04T07:51:27.744146Z"
    }
   }
  },
  {
   "cell_type": "code",
   "execution_count": 10,
   "outputs": [],
   "source": [
    "distances_to_closest_mrt_planned_for_all_houses = calculate_distance_to_nearest_mrt_planned(lat_long_of_houses, house_rent_approval_year, lat_long_of_mrts_planned,mrt_opening_year)\n",
    "df_house['distance_to_nearest_planned_mrt'] = distances_to_closest_mrt_planned_for_all_houses"
   ],
   "metadata": {
    "collapsed": false,
    "ExecuteTime": {
     "end_time": "2023-11-04T07:40:59.880885400Z",
     "start_time": "2023-11-04T07:40:55.663903800Z"
    }
   }
  },
  {
   "cell_type": "markdown",
   "source": [
    "# 3. Computing the distances of each house to its nearest primary school"
   ],
   "metadata": {
    "collapsed": false
   }
  },
  {
   "cell_type": "code",
   "execution_count": 11,
   "outputs": [],
   "source": [
    "def calculate_distance_to_nearest_school(list1, list2):\n",
    "    '''\n",
    "    Calculate Haversine distances between all pairs of points in two lists.\n",
    "    Each list contains points represented as (latitude, longitude) tuples.\n",
    "\n",
    "    :param list1:\n",
    "    :param list2:\n",
    "    :return:\n",
    "    '''\n",
    "\n",
    "    distances_to_closest_school_for_all_houses = []\n",
    "\n",
    "    for point1 in list1:\n",
    "        lat1, lon1 = point1\n",
    "        distances_to_all_school = []\n",
    "        for point2 in list2:\n",
    "            lat2, lon2 = point2\n",
    "            distance = haversine_distance(lat1, lon1, lat2, lon2)\n",
    "            distances_to_all_school.append(distance)\n",
    "        distance_to_closest_school = min(distances_to_all_school)\n",
    "        distances_to_closest_school_for_all_houses.append(distance_to_closest_school)\n",
    "\n",
    "    return distances_to_closest_school_for_all_houses\n",
    "\n"
   ],
   "metadata": {
    "collapsed": false,
    "ExecuteTime": {
     "end_time": "2023-11-04T07:40:59.897548200Z",
     "start_time": "2023-11-04T07:40:59.883504200Z"
    }
   }
  },
  {
   "cell_type": "code",
   "execution_count": 12,
   "outputs": [],
   "source": [
    "distances_to_closest_school_for_all_houses = calculate_distance_to_nearest_school(lat_long_of_houses, lat_long_of_school)\n",
    "df_house['distance_to_nearest_school'] = distances_to_closest_school_for_all_houses"
   ],
   "metadata": {
    "collapsed": false,
    "ExecuteTime": {
     "end_time": "2023-11-04T07:41:10.763196400Z",
     "start_time": "2023-11-04T07:40:59.911549500Z"
    }
   }
  },
  {
   "cell_type": "markdown",
   "source": [
    "# 4. Computing the distances of each house to its nearest shopping mall"
   ],
   "metadata": {
    "collapsed": false
   }
  },
  {
   "cell_type": "code",
   "execution_count": 13,
   "outputs": [],
   "source": [
    "def calculate_distance_to_nearest_mall(list1, list2):\n",
    "    '''\n",
    "    Calculate Haversine distances between all pairs of points in two lists.\n",
    "    Each list contains points represented as (latitude, longitude) tuples.\n",
    "\n",
    "    :param list1:\n",
    "    :param list2:\n",
    "    :return:\n",
    "    '''\n",
    "\n",
    "    distances_to_closest_mall_for_all_houses = []\n",
    "\n",
    "    for point1 in list1:\n",
    "        lat1, lon1 = point1\n",
    "        distances_to_all_mall = []\n",
    "        for point2 in list2:\n",
    "            lat2, lon2 = point2\n",
    "            distance = haversine_distance(lat1, lon1, lat2, lon2)\n",
    "            distances_to_all_mall.append(distance)\n",
    "        distance_to_closest_mall = min(distances_to_all_mall)\n",
    "        distances_to_closest_mall_for_all_houses.append(distance_to_closest_mall)\n",
    "\n",
    "    return distances_to_closest_mall_for_all_houses\n"
   ],
   "metadata": {
    "collapsed": false,
    "ExecuteTime": {
     "end_time": "2023-11-04T07:41:10.779014900Z",
     "start_time": "2023-11-04T07:41:10.765876300Z"
    }
   }
  },
  {
   "cell_type": "code",
   "execution_count": 14,
   "outputs": [],
   "source": [
    "distances_to_closest_mall_for_all_houses = calculate_distance_to_nearest_mall(lat_long_of_houses, lat_long_of_malls)\n",
    "df_house['distance_to_nearest_mall'] = distances_to_closest_mall_for_all_houses"
   ],
   "metadata": {
    "collapsed": false,
    "ExecuteTime": {
     "end_time": "2023-11-04T07:41:20.407908900Z",
     "start_time": "2023-11-04T07:41:10.781013900Z"
    }
   }
  },
  {
   "cell_type": "markdown",
   "source": [
    "# 5. Putting it all together"
   ],
   "metadata": {
    "collapsed": false
   }
  },
  {
   "cell_type": "code",
   "execution_count": 15,
   "outputs": [
    {
     "data": {
      "text/plain": "  rent_approval_date             town block            street_name  flat_type  \\\n0            2021-09      jurong east   257  Jurong East Street 24     3 room   \n1            2022-05            bedok   119       bedok north road     4-room   \n2            2022-10        toa payoh   157     lorong 1 toa payoh     3-room   \n3            2021-08        pasir ris   250    Pasir Ris Street 21  executive   \n4            2022-11  kallang/whampoa    34           Whampoa West     3-room   \n\n       flat_model  floor_area_sqm furnished  lease_commence_date  latitude  \\\n0  new generation            67.0       yes                 1983  1.344518   \n1  new generation            92.0       yes                 1978  1.330186   \n2        improved            67.0       yes                 1971  1.332242   \n3       apartment           149.0       yes                 1993  1.370239   \n4        improved            68.0       yes                 1972  1.320502   \n\n    longitude  elevation            subzone planning_area          region  \\\n0  103.738630        0.0         yuhua east   jurong east     west region   \n1  103.938717        0.0        bedok north         bedok     east region   \n2  103.845643        0.0  toa payoh central     toa payoh  central region   \n3  103.962894        0.0    pasir ris drive     pasir ris     east region   \n4  103.863341        0.0          bendemeer       kallang  central region   \n\n   monthly_rent  distance_to_nearest_existing_mrt  \\\n0          1600                        699.127003   \n1          2250                        898.991282   \n2          1900                        218.603012   \n3          2850                       1546.040421   \n4          2100                        187.855816   \n\n   distance_to_nearest_planned_mrt  distance_to_nearest_school  \\\n0                       675.092874                  334.846135   \n1                       904.343701                  607.716465   \n2                      3716.441532                  425.760160   \n3                       516.218553                  564.969272   \n4                      2831.638339                  271.723351   \n\n   distance_to_nearest_mall  \n0               1202.673513  \n1               1114.338361  \n2                468.296504  \n3                402.358778  \n4               1073.353709  ",
      "text/html": "<div>\n<style scoped>\n    .dataframe tbody tr th:only-of-type {\n        vertical-align: middle;\n    }\n\n    .dataframe tbody tr th {\n        vertical-align: top;\n    }\n\n    .dataframe thead th {\n        text-align: right;\n    }\n</style>\n<table border=\"1\" class=\"dataframe\">\n  <thead>\n    <tr style=\"text-align: right;\">\n      <th></th>\n      <th>rent_approval_date</th>\n      <th>town</th>\n      <th>block</th>\n      <th>street_name</th>\n      <th>flat_type</th>\n      <th>flat_model</th>\n      <th>floor_area_sqm</th>\n      <th>furnished</th>\n      <th>lease_commence_date</th>\n      <th>latitude</th>\n      <th>longitude</th>\n      <th>elevation</th>\n      <th>subzone</th>\n      <th>planning_area</th>\n      <th>region</th>\n      <th>monthly_rent</th>\n      <th>distance_to_nearest_existing_mrt</th>\n      <th>distance_to_nearest_planned_mrt</th>\n      <th>distance_to_nearest_school</th>\n      <th>distance_to_nearest_mall</th>\n    </tr>\n  </thead>\n  <tbody>\n    <tr>\n      <th>0</th>\n      <td>2021-09</td>\n      <td>jurong east</td>\n      <td>257</td>\n      <td>Jurong East Street 24</td>\n      <td>3 room</td>\n      <td>new generation</td>\n      <td>67.0</td>\n      <td>yes</td>\n      <td>1983</td>\n      <td>1.344518</td>\n      <td>103.738630</td>\n      <td>0.0</td>\n      <td>yuhua east</td>\n      <td>jurong east</td>\n      <td>west region</td>\n      <td>1600</td>\n      <td>699.127003</td>\n      <td>675.092874</td>\n      <td>334.846135</td>\n      <td>1202.673513</td>\n    </tr>\n    <tr>\n      <th>1</th>\n      <td>2022-05</td>\n      <td>bedok</td>\n      <td>119</td>\n      <td>bedok north road</td>\n      <td>4-room</td>\n      <td>new generation</td>\n      <td>92.0</td>\n      <td>yes</td>\n      <td>1978</td>\n      <td>1.330186</td>\n      <td>103.938717</td>\n      <td>0.0</td>\n      <td>bedok north</td>\n      <td>bedok</td>\n      <td>east region</td>\n      <td>2250</td>\n      <td>898.991282</td>\n      <td>904.343701</td>\n      <td>607.716465</td>\n      <td>1114.338361</td>\n    </tr>\n    <tr>\n      <th>2</th>\n      <td>2022-10</td>\n      <td>toa payoh</td>\n      <td>157</td>\n      <td>lorong 1 toa payoh</td>\n      <td>3-room</td>\n      <td>improved</td>\n      <td>67.0</td>\n      <td>yes</td>\n      <td>1971</td>\n      <td>1.332242</td>\n      <td>103.845643</td>\n      <td>0.0</td>\n      <td>toa payoh central</td>\n      <td>toa payoh</td>\n      <td>central region</td>\n      <td>1900</td>\n      <td>218.603012</td>\n      <td>3716.441532</td>\n      <td>425.760160</td>\n      <td>468.296504</td>\n    </tr>\n    <tr>\n      <th>3</th>\n      <td>2021-08</td>\n      <td>pasir ris</td>\n      <td>250</td>\n      <td>Pasir Ris Street 21</td>\n      <td>executive</td>\n      <td>apartment</td>\n      <td>149.0</td>\n      <td>yes</td>\n      <td>1993</td>\n      <td>1.370239</td>\n      <td>103.962894</td>\n      <td>0.0</td>\n      <td>pasir ris drive</td>\n      <td>pasir ris</td>\n      <td>east region</td>\n      <td>2850</td>\n      <td>1546.040421</td>\n      <td>516.218553</td>\n      <td>564.969272</td>\n      <td>402.358778</td>\n    </tr>\n    <tr>\n      <th>4</th>\n      <td>2022-11</td>\n      <td>kallang/whampoa</td>\n      <td>34</td>\n      <td>Whampoa West</td>\n      <td>3-room</td>\n      <td>improved</td>\n      <td>68.0</td>\n      <td>yes</td>\n      <td>1972</td>\n      <td>1.320502</td>\n      <td>103.863341</td>\n      <td>0.0</td>\n      <td>bendemeer</td>\n      <td>kallang</td>\n      <td>central region</td>\n      <td>2100</td>\n      <td>187.855816</td>\n      <td>2831.638339</td>\n      <td>271.723351</td>\n      <td>1073.353709</td>\n    </tr>\n  </tbody>\n</table>\n</div>"
     },
     "execution_count": 15,
     "metadata": {},
     "output_type": "execute_result"
    }
   ],
   "source": [
    "df_house.head()"
   ],
   "metadata": {
    "collapsed": false,
    "ExecuteTime": {
     "end_time": "2023-11-04T07:41:20.450856100Z",
     "start_time": "2023-11-04T07:41:20.408795900Z"
    }
   }
  }
 ]
}
