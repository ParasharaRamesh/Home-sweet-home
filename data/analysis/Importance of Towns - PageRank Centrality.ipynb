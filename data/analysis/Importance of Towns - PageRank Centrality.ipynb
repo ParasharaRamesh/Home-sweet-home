{
 "cells": [
  {
   "cell_type": "raw",
   "source": [
    "Importance of Towns\n",
    "\n",
    "In this notebook, we aim to assign \"Importance\" scores to the Towns. A town by itself may not be a central hub or a posh area. But if this is the very next MRT stop to such a hotspot town, then this factor should also carry some importance. Being one or two stops away from Marina Bay would be different than being one or two stops away from Bukit Merah."
   ],
   "metadata": {
    "collapsed": false
   },
   "id": "1749c9ea90654ba7"
  },
  {
   "cell_type": "code",
   "execution_count": 2,
   "outputs": [],
   "source": [
    "import pandas as pd\n",
    "import numpy as np"
   ],
   "metadata": {
    "collapsed": false,
    "ExecuteTime": {
     "end_time": "2023-11-04T03:39:04.569370400Z",
     "start_time": "2023-11-04T03:39:03.603137800Z"
    }
   },
   "id": "902bf6d1b7186abf"
  },
  {
   "cell_type": "code",
   "execution_count": 5,
   "outputs": [
    {
     "data": {
      "text/plain": "   rent_approval_date           town  flat_type         flat_model  \\\n0             0.26674    jurong east          3     new generation   \n1             0.26674        punggol          4            model a   \n2             0.26674  choa chu kang          6  premium apartment   \n3             0.26674      sembawang          5  premium apartment   \n4             0.26674         bishan          5           improved   \n\n   floor_area_sqm  lease_commence_date  latitude   longitude  \\\n0        0.182320             0.320755  1.344518  103.738630   \n1        0.281768             0.716981  1.398524  103.903863   \n2        0.596685             0.641509  1.378101  103.736002   \n3        0.419890             0.660377  1.447534  103.817892   \n4        0.480663             0.396226  1.347017  103.849987   \n\n             subzone             region  monthly_rent  \\\n0         yuhua east        west region        1600.0   \n1            matilda  north-east region        2400.0   \n2         peng siang        west region        1800.0   \n3  sembawang central       north region        2100.0   \n4        bishan east     central region        2750.0   \n\n   distance_to_nearest_existing_mrt  distance_to_nearest_planned_mrt  \\\n0                          0.271900                         0.067848   \n1                          0.265562                         0.077554   \n2                          0.490368                         0.124587   \n3                          0.108178                         0.908049   \n4                          0.167685                         0.228855   \n\n   distance_to_nearest_school  distance_to_nearest_mall  coe_price_indicator  \\\n0                    0.143355                  0.516103              0.17757   \n1                    0.212643                  0.302355              0.17757   \n2                    0.083780                  0.401828              0.17757   \n3                    0.197100                  0.081343              0.17757   \n4                    0.282732                  0.172704              0.17757   \n\n   stock_price  \n0     0.796443  \n1     0.796443  \n2     0.796443  \n3     0.796443  \n4     0.796443  ",
      "text/html": "<div>\n<style scoped>\n    .dataframe tbody tr th:only-of-type {\n        vertical-align: middle;\n    }\n\n    .dataframe tbody tr th {\n        vertical-align: top;\n    }\n\n    .dataframe thead th {\n        text-align: right;\n    }\n</style>\n<table border=\"1\" class=\"dataframe\">\n  <thead>\n    <tr style=\"text-align: right;\">\n      <th></th>\n      <th>rent_approval_date</th>\n      <th>town</th>\n      <th>flat_type</th>\n      <th>flat_model</th>\n      <th>floor_area_sqm</th>\n      <th>lease_commence_date</th>\n      <th>latitude</th>\n      <th>longitude</th>\n      <th>subzone</th>\n      <th>region</th>\n      <th>monthly_rent</th>\n      <th>distance_to_nearest_existing_mrt</th>\n      <th>distance_to_nearest_planned_mrt</th>\n      <th>distance_to_nearest_school</th>\n      <th>distance_to_nearest_mall</th>\n      <th>coe_price_indicator</th>\n      <th>stock_price</th>\n    </tr>\n  </thead>\n  <tbody>\n    <tr>\n      <th>0</th>\n      <td>0.26674</td>\n      <td>jurong east</td>\n      <td>3</td>\n      <td>new generation</td>\n      <td>0.182320</td>\n      <td>0.320755</td>\n      <td>1.344518</td>\n      <td>103.738630</td>\n      <td>yuhua east</td>\n      <td>west region</td>\n      <td>1600.0</td>\n      <td>0.271900</td>\n      <td>0.067848</td>\n      <td>0.143355</td>\n      <td>0.516103</td>\n      <td>0.17757</td>\n      <td>0.796443</td>\n    </tr>\n    <tr>\n      <th>1</th>\n      <td>0.26674</td>\n      <td>punggol</td>\n      <td>4</td>\n      <td>model a</td>\n      <td>0.281768</td>\n      <td>0.716981</td>\n      <td>1.398524</td>\n      <td>103.903863</td>\n      <td>matilda</td>\n      <td>north-east region</td>\n      <td>2400.0</td>\n      <td>0.265562</td>\n      <td>0.077554</td>\n      <td>0.212643</td>\n      <td>0.302355</td>\n      <td>0.17757</td>\n      <td>0.796443</td>\n    </tr>\n    <tr>\n      <th>2</th>\n      <td>0.26674</td>\n      <td>choa chu kang</td>\n      <td>6</td>\n      <td>premium apartment</td>\n      <td>0.596685</td>\n      <td>0.641509</td>\n      <td>1.378101</td>\n      <td>103.736002</td>\n      <td>peng siang</td>\n      <td>west region</td>\n      <td>1800.0</td>\n      <td>0.490368</td>\n      <td>0.124587</td>\n      <td>0.083780</td>\n      <td>0.401828</td>\n      <td>0.17757</td>\n      <td>0.796443</td>\n    </tr>\n    <tr>\n      <th>3</th>\n      <td>0.26674</td>\n      <td>sembawang</td>\n      <td>5</td>\n      <td>premium apartment</td>\n      <td>0.419890</td>\n      <td>0.660377</td>\n      <td>1.447534</td>\n      <td>103.817892</td>\n      <td>sembawang central</td>\n      <td>north region</td>\n      <td>2100.0</td>\n      <td>0.108178</td>\n      <td>0.908049</td>\n      <td>0.197100</td>\n      <td>0.081343</td>\n      <td>0.17757</td>\n      <td>0.796443</td>\n    </tr>\n    <tr>\n      <th>4</th>\n      <td>0.26674</td>\n      <td>bishan</td>\n      <td>5</td>\n      <td>improved</td>\n      <td>0.480663</td>\n      <td>0.396226</td>\n      <td>1.347017</td>\n      <td>103.849987</td>\n      <td>bishan east</td>\n      <td>central region</td>\n      <td>2750.0</td>\n      <td>0.167685</td>\n      <td>0.228855</td>\n      <td>0.282732</td>\n      <td>0.172704</td>\n      <td>0.17757</td>\n      <td>0.796443</td>\n    </tr>\n  </tbody>\n</table>\n</div>"
     },
     "execution_count": 5,
     "metadata": {},
     "output_type": "execute_result"
    }
   ],
   "source": [
    "df = pd.read_csv('D:\\\\NUS\\\\KDDM\\\\project_clone\\\\Home-sweet-home\\\\datasets\\\\transformed\\\\train_clean.csv')\n",
    "df.head()"
   ],
   "metadata": {
    "collapsed": false,
    "ExecuteTime": {
     "end_time": "2023-11-04T03:40:46.812149100Z",
     "start_time": "2023-11-04T03:40:46.618877200Z"
    }
   },
   "id": "d1b93c85df0ebd26"
  },
  {
   "cell_type": "code",
   "execution_count": 7,
   "outputs": [
    {
     "data": {
      "text/plain": "town\njurong west        4401\ntampines           4172\nsengkang           3991\nbedok              3621\nang mo kio         3479\nyishun             3365\nbukit merah        3134\nwoodlands          3025\nhougang            2853\npunggol            2691\ntoa payoh          2376\nclementi           2255\nbukit batok        2230\nchoa chu kang      2114\nqueenstown         2013\nkallang/whampoa    1848\npasir ris          1710\ngeylang            1708\njurong east        1704\nbukit panjang      1604\nsembawang          1438\nbishan             1431\nserangoon          1293\nmarine parade       609\ncentral             606\nbukit timah          56\nName: count, dtype: int64"
     },
     "execution_count": 7,
     "metadata": {},
     "output_type": "execute_result"
    }
   ],
   "source": [
    "# number of towns\n",
    "df['town'].value_counts()"
   ],
   "metadata": {
    "collapsed": false,
    "ExecuteTime": {
     "end_time": "2023-11-04T03:41:19.911390300Z",
     "start_time": "2023-11-04T03:41:19.890682Z"
    }
   },
   "id": "1db310cf2c60a769"
  },
  {
   "cell_type": "code",
   "execution_count": 49,
   "outputs": [
    {
     "data": {
      "text/plain": "0          jurong east\n1              punggol\n2        choa chu kang\n3            sembawang\n4               bishan\n             ...      \n59722    bukit panjang\n59723          geylang\n59724           bishan\n59725      jurong east\n59726          geylang\nName: town, Length: 59727, dtype: object"
     },
     "execution_count": 49,
     "metadata": {},
     "output_type": "execute_result"
    }
   ],
   "source": [
    "df['town']"
   ],
   "metadata": {
    "collapsed": false,
    "ExecuteTime": {
     "end_time": "2023-11-04T10:43:56.468046300Z",
     "start_time": "2023-11-04T10:43:56.444678200Z"
    }
   },
   "id": "ef957a3236d25dca"
  },
  {
   "cell_type": "raw",
   "source": [
    "We have 26 towns in total.\n",
    "Using google maps, the centroid and town radius for each town is found and a new dataset is created from scratch - \"town_centroids_radius.csv\""
   ],
   "metadata": {
    "collapsed": false
   },
   "id": "ec5e88e77bbb1ec2"
  },
  {
   "cell_type": "code",
   "execution_count": 9,
   "outputs": [
    {
     "data": {
      "text/plain": "          town  centroid_lat  centroid_long  town_radius_km\n0  jurong west      1.341443     103.703521            3.36\n1     tampines      1.345962     103.951249            2.87\n2     sengkang      1.393110     103.883115            2.80\n3        bedok      1.325809     103.933736            3.46\n4   ang mo kio      1.382177     103.841626            2.79",
      "text/html": "<div>\n<style scoped>\n    .dataframe tbody tr th:only-of-type {\n        vertical-align: middle;\n    }\n\n    .dataframe tbody tr th {\n        vertical-align: top;\n    }\n\n    .dataframe thead th {\n        text-align: right;\n    }\n</style>\n<table border=\"1\" class=\"dataframe\">\n  <thead>\n    <tr style=\"text-align: right;\">\n      <th></th>\n      <th>town</th>\n      <th>centroid_lat</th>\n      <th>centroid_long</th>\n      <th>town_radius_km</th>\n    </tr>\n  </thead>\n  <tbody>\n    <tr>\n      <th>0</th>\n      <td>jurong west</td>\n      <td>1.341443</td>\n      <td>103.703521</td>\n      <td>3.36</td>\n    </tr>\n    <tr>\n      <th>1</th>\n      <td>tampines</td>\n      <td>1.345962</td>\n      <td>103.951249</td>\n      <td>2.87</td>\n    </tr>\n    <tr>\n      <th>2</th>\n      <td>sengkang</td>\n      <td>1.393110</td>\n      <td>103.883115</td>\n      <td>2.80</td>\n    </tr>\n    <tr>\n      <th>3</th>\n      <td>bedok</td>\n      <td>1.325809</td>\n      <td>103.933736</td>\n      <td>3.46</td>\n    </tr>\n    <tr>\n      <th>4</th>\n      <td>ang mo kio</td>\n      <td>1.382177</td>\n      <td>103.841626</td>\n      <td>2.79</td>\n    </tr>\n  </tbody>\n</table>\n</div>"
     },
     "execution_count": 9,
     "metadata": {},
     "output_type": "execute_result"
    }
   ],
   "source": [
    "df_town = pd.read_csv('D:\\\\NUS\\\\KDDM\\\\project_clone\\\\Home-sweet-home\\\\datasets\\\\town_centroids_radius.csv')\n",
    "df_town.head()"
   ],
   "metadata": {
    "collapsed": false,
    "ExecuteTime": {
     "end_time": "2023-11-04T08:48:27.110326400Z",
     "start_time": "2023-11-04T08:48:27.077501300Z"
    }
   },
   "id": "130256d1b5cd77af"
  },
  {
   "cell_type": "code",
   "execution_count": 10,
   "outputs": [
    {
     "data": {
      "text/plain": "2.7303846153846156"
     },
     "execution_count": 10,
     "metadata": {},
     "output_type": "execute_result"
    }
   ],
   "source": [
    "df_town['town_radius_km'].mean()"
   ],
   "metadata": {
    "collapsed": false,
    "ExecuteTime": {
     "end_time": "2023-11-04T08:48:50.069059800Z",
     "start_time": "2023-11-04T08:48:50.039855700Z"
    }
   },
   "id": "aafa6abad5c67075"
  },
  {
   "cell_type": "raw",
   "source": [
    "The average \"radius\" of a town is around 2.73km. Next, we find the number of MRTs, number of schools, number of shopping malls that are within a town (3km radius from town's centre)"
   ],
   "metadata": {
    "collapsed": false
   },
   "id": "455b83904798702d"
  },
  {
   "cell_type": "code",
   "execution_count": 14,
   "outputs": [],
   "source": [
    "#helper function for haversine distance\n",
    "import math\n",
    "def haversine_distance(lat1, lon1, lat2, lon2):\n",
    "    '''\n",
    "    Compute the distances between 2 lat and long\n",
    "\n",
    "    :param lat1:\n",
    "    :param lon1:\n",
    "    :param lat2:\n",
    "    :param lon2:\n",
    "    :return:\n",
    "    '''\n",
    "    # Radius of the Earth in kilometers\n",
    "    earth_radius_km = 6371.0\n",
    "\n",
    "    # Convert latitude and longitude from degrees to radians\n",
    "    lat1_rad = math.radians(lat1)\n",
    "    lon1_rad = math.radians(lon1)\n",
    "    lat2_rad = math.radians(lat2)\n",
    "    lon2_rad = math.radians(lon2)\n",
    "\n",
    "    # Haversine formula\n",
    "    dlon = lon2_rad - lon1_rad\n",
    "    dlat = lat2_rad - lat1_rad\n",
    "    a = math.sin(dlat / 2) ** 2 + math.cos(lat1_rad) * math.cos(lat2_rad) * math.sin(dlon / 2) ** 2\n",
    "    c = 2 * math.atan2(math.sqrt(a), math.sqrt(1 - a))\n",
    "\n",
    "    # Calculate the distance\n",
    "    distance = earth_radius_km * c\n",
    "\n",
    "    return distance * 1000"
   ],
   "metadata": {
    "collapsed": false,
    "ExecuteTime": {
     "end_time": "2023-11-04T09:39:54.249785Z",
     "start_time": "2023-11-04T09:39:54.239496500Z"
    }
   },
   "id": "1bf171ec44604e6"
  },
  {
   "cell_type": "code",
   "execution_count": 35,
   "outputs": [],
   "source": [
    "def calculate_mrts_within_town_radius(list1, list2):\n",
    "    '''\n",
    "    For all towns, find the number of MRTs that are within a 3km radius from town's centres\n",
    "\n",
    "    :param list1: town lat long\n",
    "    :param list2: mrt lat long\n",
    "    :return:\n",
    "    '''\n",
    "\n",
    "    number_of_mrts_under_town = [0] * len(list1)\n",
    "    town_counter = 0\n",
    "    for point1 in list1:\n",
    "        lat1, lon1 = point1\n",
    "        for point2 in list2:\n",
    "            lat2, lon2 = point2\n",
    "            # distance = (geodesic(point1, point2).kilometers ) * 1000\n",
    "            distance = haversine_distance(lat1, lon1, lat2, lon2)\n",
    "            if distance <= 2700: # if it is within a 3000m or 3km radius\n",
    "                number_of_mrts_under_town[town_counter] +=1\n",
    "        town_counter +=1\n",
    "    return number_of_mrts_under_town"
   ],
   "metadata": {
    "collapsed": false,
    "ExecuteTime": {
     "end_time": "2023-11-04T10:05:37.085802700Z",
     "start_time": "2023-11-04T10:05:37.070839500Z"
    }
   },
   "id": "2f7a98c3395132c0"
  },
  {
   "cell_type": "code",
   "execution_count": 36,
   "outputs": [],
   "source": [
    "def calculate_schools_within_town_radius(list1, list2):\n",
    "    '''\n",
    "    For all towns, find the number of schools that are within a 3km radius from town's centres\n",
    "\n",
    "    :param list1: town lat long\n",
    "    :param list2: schools lat long\n",
    "    :return:\n",
    "    '''\n",
    "\n",
    "    number_of_schools_under_town = [0] * len(list1)\n",
    "    town_counter = 0\n",
    "    for point1 in list1:\n",
    "        lat1, lon1 = point1\n",
    "        for point2 in list2:\n",
    "            lat2, lon2 = point2\n",
    "            # distance = (geodesic(point1, point2).kilometers ) * 1000\n",
    "            distance = haversine_distance(lat1, lon1, lat2, lon2)\n",
    "            if distance <= 2700: # if it is within a 3000m or 3km radius\n",
    "                number_of_schools_under_town[town_counter] +=1\n",
    "        town_counter +=1\n",
    "    return number_of_schools_under_town"
   ],
   "metadata": {
    "collapsed": false,
    "ExecuteTime": {
     "end_time": "2023-11-04T10:05:38.355319300Z",
     "start_time": "2023-11-04T10:05:38.329145100Z"
    }
   },
   "id": "665a296e1fc2a62e"
  },
  {
   "cell_type": "code",
   "execution_count": 37,
   "outputs": [],
   "source": [
    "def calculate_malls_within_town_radius(list1, list2):\n",
    "    '''\n",
    "    For all towns, find the number of malls that are within a 3km radius from town's centres\n",
    "\n",
    "    :param list1: town lat long\n",
    "    :param list2: malls lat long\n",
    "    :return:\n",
    "    '''\n",
    "\n",
    "    number_of_malls_under_town = [0] * len(list1)\n",
    "    town_counter = 0\n",
    "    for point1 in list1:\n",
    "        lat1, lon1 = point1\n",
    "        for point2 in list2:\n",
    "            lat2, lon2 = point2\n",
    "            # distance = (geodesic(point1, point2).kilometers ) * 1000\n",
    "            distance = haversine_distance(lat1, lon1, lat2, lon2)\n",
    "            if distance <= 2700: # if it is within a 3000m or 3km radius\n",
    "                number_of_malls_under_town[town_counter] +=1\n",
    "        town_counter +=1\n",
    "    return number_of_malls_under_town"
   ],
   "metadata": {
    "collapsed": false,
    "ExecuteTime": {
     "end_time": "2023-11-04T10:05:38.896363300Z",
     "start_time": "2023-11-04T10:05:38.886386200Z"
    }
   },
   "id": "b9416fdc1f83a152"
  },
  {
   "cell_type": "code",
   "execution_count": 38,
   "outputs": [],
   "source": [
    "def calculate_importance_score_of_towns(number_of_mrts_under_town, number_of_mrts_planned_under_town, number_of_schools_under_town, number_of_malls_under_town):\n",
    "    no_of_towns = len(number_of_mrts_under_town)\n",
    "    importance_score_of_towns = []\n",
    "    for i in range(no_of_towns):\n",
    "        importance_score = (number_of_mrts_under_town[i] * 0.4) + (number_of_mrts_planned_under_town[i] * 0.2) + (number_of_schools_under_town[i] * 0.2) + (number_of_malls_under_town[i] * 0.2)\n",
    "        importance_score_of_towns.append(importance_score)\n",
    "    \n",
    "    return importance_score_of_towns\n",
    "    "
   ],
   "metadata": {
    "collapsed": false,
    "ExecuteTime": {
     "end_time": "2023-11-04T10:05:39.401876400Z",
     "start_time": "2023-11-04T10:05:39.389400700Z"
    }
   },
   "id": "8dc89563ba499106"
  },
  {
   "cell_type": "code",
   "execution_count": 39,
   "outputs": [],
   "source": [
    "mrt_input_path = \"../../datasets/auxiliary-data/sg-mrt-existing-stations.csv\"\n",
    "mrt_planned_input_path = \"../../datasets/auxiliary-data/sg-mrt-planned-stations.csv\"\n",
    "mall_input_path = \"../../datasets/auxiliary-data/sg-shopping-malls.csv\"\n",
    "school_input_path = \"../../datasets/auxiliary-data/sg-primary-schools.csv\""
   ],
   "metadata": {
    "collapsed": false,
    "ExecuteTime": {
     "end_time": "2023-11-04T10:05:40.052493800Z",
     "start_time": "2023-11-04T10:05:40.036030400Z"
    }
   },
   "id": "b972d4d7533add20"
  },
  {
   "cell_type": "code",
   "execution_count": 40,
   "outputs": [],
   "source": [
    "df_mrt = pd.read_csv(mrt_input_path)\n",
    "df_mrt_planned = pd.read_csv(mrt_planned_input_path)\n",
    "df_mall = pd.read_csv(mall_input_path)\n",
    "df_school = pd.read_csv(school_input_path)"
   ],
   "metadata": {
    "collapsed": false,
    "ExecuteTime": {
     "end_time": "2023-11-04T10:05:40.539171200Z",
     "start_time": "2023-11-04T10:05:40.525006300Z"
    }
   },
   "id": "1858b7d54fbc758f"
  },
  {
   "cell_type": "code",
   "execution_count": 41,
   "outputs": [],
   "source": [
    "lat_long_of_towns = list(zip(df_town['centroid_lat'], df_town['centroid_long']))\n",
    "lat_long_of_mrts = list(zip(df_mrt['latitude'], df_mrt['longitude']))\n",
    "lat_long_of_mrts_planned = list(zip(df_mrt_planned['latitude'], df_mrt_planned['longitude']))\n",
    "lat_long_of_malls = list(zip(df_mall['latitude'], df_mall['longitude']))\n",
    "lat_long_of_school = list(zip(df_school['latitude'], df_school['longitude']))\n"
   ],
   "metadata": {
    "collapsed": false,
    "ExecuteTime": {
     "end_time": "2023-11-04T10:05:41.618658100Z",
     "start_time": "2023-11-04T10:05:41.583521300Z"
    }
   },
   "id": "c5c3c2444af39150"
  },
  {
   "cell_type": "code",
   "execution_count": 42,
   "outputs": [],
   "source": [
    "number_of_mrts_under_town = calculate_mrts_within_town_radius(lat_long_of_towns, lat_long_of_mrts)\n",
    "number_of_mrts_planned_under_town = calculate_mrts_within_town_radius(lat_long_of_towns, lat_long_of_mrts_planned)\n",
    "number_of_schools_under_town = calculate_schools_within_town_radius(lat_long_of_towns, lat_long_of_school)\n",
    "number_of_malls_under_town = calculate_malls_within_town_radius(lat_long_of_towns, lat_long_of_malls)"
   ],
   "metadata": {
    "collapsed": false,
    "ExecuteTime": {
     "end_time": "2023-11-04T10:05:42.260923700Z",
     "start_time": "2023-11-04T10:05:42.235983800Z"
    }
   },
   "id": "f26e6a6e91b3c011"
  },
  {
   "cell_type": "code",
   "execution_count": 62,
   "outputs": [
    {
     "data": {
      "text/plain": "29"
     },
     "execution_count": 62,
     "metadata": {},
     "output_type": "execute_result"
    }
   ],
   "source": [
    "number_of_mrts_under_town[15]"
   ],
   "metadata": {
    "collapsed": false,
    "ExecuteTime": {
     "end_time": "2023-11-04T11:46:46.382797500Z",
     "start_time": "2023-11-04T11:46:46.344284300Z"
    }
   },
   "id": "9159232c33b0e710"
  },
  {
   "cell_type": "code",
   "execution_count": 59,
   "outputs": [],
   "source": [
    "importance_score_of_towns =  calculate_importance_score_of_towns(number_of_mrts_under_town,number_of_mrts_planned_under_town,number_of_schools_under_town,number_of_malls_under_town)\n",
    "df_town['mrts'] = number_of_mrts_under_town\n",
    "df_town['mrt_planned'] = number_of_mrts_planned_under_town\n",
    "df_town['schools'] = number_of_schools_under_town\n",
    "df_town['malls'] = number_of_malls_under_town\n",
    "df_town['importance'] = importance_score_of_towns"
   ],
   "metadata": {
    "collapsed": false,
    "ExecuteTime": {
     "end_time": "2023-11-04T11:41:44.587603100Z",
     "start_time": "2023-11-04T11:41:44.502185100Z"
    }
   },
   "id": "522774fe7eb381a"
  },
  {
   "cell_type": "code",
   "execution_count": 60,
   "outputs": [
    {
     "data": {
      "text/plain": "               town  centroid_lat  centroid_long  town_radius_km  importance  \\\n0       jurong west      1.341443     103.703521            3.36         7.2   \n1          tampines      1.345962     103.951249            2.87         9.8   \n2          sengkang      1.393110     103.883115            2.80         7.6   \n3             bedok      1.325809     103.933736            3.46         7.2   \n4        ang mo kio      1.382177     103.841626            2.79         4.8   \n5            yishun      1.417996     103.840275            2.88         3.4   \n6       bukit merah      1.282343     103.821103            2.69        11.8   \n7         woodlands      1.439668     103.788821            2.46         6.2   \n8           hougang      1.366029     103.890594            2.89         6.4   \n9           punggol      1.405524     103.909898            2.55         6.0   \n10        toa payoh      1.337213     103.863110            2.92        11.4   \n11         clementi      1.323533     103.762224            2.43         7.8   \n12      bukit batok      1.353846     103.754385            2.44         6.8   \n13    choa chu kang      1.391090     103.745614            2.07         6.4   \n14       queenstown      1.295994     103.791323            3.29         5.8   \n15  kallang/whampoa      1.313183     103.864736            2.28        19.2   \n16        pasir ris      1.375153     103.947255            3.68         6.2   \n17          geylang      1.322243     103.890282            2.07        11.0   \n18      jurong east      1.325250     103.735567            2.19         4.6   \n19   bukit panchang      1.370970     103.772176            2.65         5.4   \n20        sembawang      1.454814     103.818557            3.16         3.8   \n21           bishan      1.355120     103.837545            1.91         8.6   \n22        serangoon      1.370309     103.867557            2.59         8.0   \n23    marine parade      1.302132     103.896979            2.70         7.4   \n24          central      1.295888     103.843593            2.41        31.8   \n25      bukit timah      1.331353     103.790679            3.45         5.4   \n\n    mrts  mrt_planned  schools  malls  \n0      3           11       13      6  \n1     10            4       18      7  \n2      3            2       19     11  \n3      6            6       15      3  \n4      5            3        8      3  \n5      2            0       10      3  \n6     18            2        9     12  \n7      6            0       11      8  \n8      3            3       14      9  \n9      2            3       16      7  \n10    16            0       17      8  \n11     6            7        9     11  \n12     6            7        9      6  \n13     3            5       11     10  \n14     9            1        4      6  \n15    29            2       10     26  \n16     4            4       11      8  \n17    17            1       10     10  \n18     4            5        5      5  \n19     4            2        9      8  \n20     3            0        8      5  \n21    10            4       13      6  \n22     5            3       16     11  \n23     7            5        6     12  \n24    47            2        9     54  \n25     7            3        4      6  ",
      "text/html": "<div>\n<style scoped>\n    .dataframe tbody tr th:only-of-type {\n        vertical-align: middle;\n    }\n\n    .dataframe tbody tr th {\n        vertical-align: top;\n    }\n\n    .dataframe thead th {\n        text-align: right;\n    }\n</style>\n<table border=\"1\" class=\"dataframe\">\n  <thead>\n    <tr style=\"text-align: right;\">\n      <th></th>\n      <th>town</th>\n      <th>centroid_lat</th>\n      <th>centroid_long</th>\n      <th>town_radius_km</th>\n      <th>importance</th>\n      <th>mrts</th>\n      <th>mrt_planned</th>\n      <th>schools</th>\n      <th>malls</th>\n    </tr>\n  </thead>\n  <tbody>\n    <tr>\n      <th>0</th>\n      <td>jurong west</td>\n      <td>1.341443</td>\n      <td>103.703521</td>\n      <td>3.36</td>\n      <td>7.2</td>\n      <td>3</td>\n      <td>11</td>\n      <td>13</td>\n      <td>6</td>\n    </tr>\n    <tr>\n      <th>1</th>\n      <td>tampines</td>\n      <td>1.345962</td>\n      <td>103.951249</td>\n      <td>2.87</td>\n      <td>9.8</td>\n      <td>10</td>\n      <td>4</td>\n      <td>18</td>\n      <td>7</td>\n    </tr>\n    <tr>\n      <th>2</th>\n      <td>sengkang</td>\n      <td>1.393110</td>\n      <td>103.883115</td>\n      <td>2.80</td>\n      <td>7.6</td>\n      <td>3</td>\n      <td>2</td>\n      <td>19</td>\n      <td>11</td>\n    </tr>\n    <tr>\n      <th>3</th>\n      <td>bedok</td>\n      <td>1.325809</td>\n      <td>103.933736</td>\n      <td>3.46</td>\n      <td>7.2</td>\n      <td>6</td>\n      <td>6</td>\n      <td>15</td>\n      <td>3</td>\n    </tr>\n    <tr>\n      <th>4</th>\n      <td>ang mo kio</td>\n      <td>1.382177</td>\n      <td>103.841626</td>\n      <td>2.79</td>\n      <td>4.8</td>\n      <td>5</td>\n      <td>3</td>\n      <td>8</td>\n      <td>3</td>\n    </tr>\n    <tr>\n      <th>5</th>\n      <td>yishun</td>\n      <td>1.417996</td>\n      <td>103.840275</td>\n      <td>2.88</td>\n      <td>3.4</td>\n      <td>2</td>\n      <td>0</td>\n      <td>10</td>\n      <td>3</td>\n    </tr>\n    <tr>\n      <th>6</th>\n      <td>bukit merah</td>\n      <td>1.282343</td>\n      <td>103.821103</td>\n      <td>2.69</td>\n      <td>11.8</td>\n      <td>18</td>\n      <td>2</td>\n      <td>9</td>\n      <td>12</td>\n    </tr>\n    <tr>\n      <th>7</th>\n      <td>woodlands</td>\n      <td>1.439668</td>\n      <td>103.788821</td>\n      <td>2.46</td>\n      <td>6.2</td>\n      <td>6</td>\n      <td>0</td>\n      <td>11</td>\n      <td>8</td>\n    </tr>\n    <tr>\n      <th>8</th>\n      <td>hougang</td>\n      <td>1.366029</td>\n      <td>103.890594</td>\n      <td>2.89</td>\n      <td>6.4</td>\n      <td>3</td>\n      <td>3</td>\n      <td>14</td>\n      <td>9</td>\n    </tr>\n    <tr>\n      <th>9</th>\n      <td>punggol</td>\n      <td>1.405524</td>\n      <td>103.909898</td>\n      <td>2.55</td>\n      <td>6.0</td>\n      <td>2</td>\n      <td>3</td>\n      <td>16</td>\n      <td>7</td>\n    </tr>\n    <tr>\n      <th>10</th>\n      <td>toa payoh</td>\n      <td>1.337213</td>\n      <td>103.863110</td>\n      <td>2.92</td>\n      <td>11.4</td>\n      <td>16</td>\n      <td>0</td>\n      <td>17</td>\n      <td>8</td>\n    </tr>\n    <tr>\n      <th>11</th>\n      <td>clementi</td>\n      <td>1.323533</td>\n      <td>103.762224</td>\n      <td>2.43</td>\n      <td>7.8</td>\n      <td>6</td>\n      <td>7</td>\n      <td>9</td>\n      <td>11</td>\n    </tr>\n    <tr>\n      <th>12</th>\n      <td>bukit batok</td>\n      <td>1.353846</td>\n      <td>103.754385</td>\n      <td>2.44</td>\n      <td>6.8</td>\n      <td>6</td>\n      <td>7</td>\n      <td>9</td>\n      <td>6</td>\n    </tr>\n    <tr>\n      <th>13</th>\n      <td>choa chu kang</td>\n      <td>1.391090</td>\n      <td>103.745614</td>\n      <td>2.07</td>\n      <td>6.4</td>\n      <td>3</td>\n      <td>5</td>\n      <td>11</td>\n      <td>10</td>\n    </tr>\n    <tr>\n      <th>14</th>\n      <td>queenstown</td>\n      <td>1.295994</td>\n      <td>103.791323</td>\n      <td>3.29</td>\n      <td>5.8</td>\n      <td>9</td>\n      <td>1</td>\n      <td>4</td>\n      <td>6</td>\n    </tr>\n    <tr>\n      <th>15</th>\n      <td>kallang/whampoa</td>\n      <td>1.313183</td>\n      <td>103.864736</td>\n      <td>2.28</td>\n      <td>19.2</td>\n      <td>29</td>\n      <td>2</td>\n      <td>10</td>\n      <td>26</td>\n    </tr>\n    <tr>\n      <th>16</th>\n      <td>pasir ris</td>\n      <td>1.375153</td>\n      <td>103.947255</td>\n      <td>3.68</td>\n      <td>6.2</td>\n      <td>4</td>\n      <td>4</td>\n      <td>11</td>\n      <td>8</td>\n    </tr>\n    <tr>\n      <th>17</th>\n      <td>geylang</td>\n      <td>1.322243</td>\n      <td>103.890282</td>\n      <td>2.07</td>\n      <td>11.0</td>\n      <td>17</td>\n      <td>1</td>\n      <td>10</td>\n      <td>10</td>\n    </tr>\n    <tr>\n      <th>18</th>\n      <td>jurong east</td>\n      <td>1.325250</td>\n      <td>103.735567</td>\n      <td>2.19</td>\n      <td>4.6</td>\n      <td>4</td>\n      <td>5</td>\n      <td>5</td>\n      <td>5</td>\n    </tr>\n    <tr>\n      <th>19</th>\n      <td>bukit panchang</td>\n      <td>1.370970</td>\n      <td>103.772176</td>\n      <td>2.65</td>\n      <td>5.4</td>\n      <td>4</td>\n      <td>2</td>\n      <td>9</td>\n      <td>8</td>\n    </tr>\n    <tr>\n      <th>20</th>\n      <td>sembawang</td>\n      <td>1.454814</td>\n      <td>103.818557</td>\n      <td>3.16</td>\n      <td>3.8</td>\n      <td>3</td>\n      <td>0</td>\n      <td>8</td>\n      <td>5</td>\n    </tr>\n    <tr>\n      <th>21</th>\n      <td>bishan</td>\n      <td>1.355120</td>\n      <td>103.837545</td>\n      <td>1.91</td>\n      <td>8.6</td>\n      <td>10</td>\n      <td>4</td>\n      <td>13</td>\n      <td>6</td>\n    </tr>\n    <tr>\n      <th>22</th>\n      <td>serangoon</td>\n      <td>1.370309</td>\n      <td>103.867557</td>\n      <td>2.59</td>\n      <td>8.0</td>\n      <td>5</td>\n      <td>3</td>\n      <td>16</td>\n      <td>11</td>\n    </tr>\n    <tr>\n      <th>23</th>\n      <td>marine parade</td>\n      <td>1.302132</td>\n      <td>103.896979</td>\n      <td>2.70</td>\n      <td>7.4</td>\n      <td>7</td>\n      <td>5</td>\n      <td>6</td>\n      <td>12</td>\n    </tr>\n    <tr>\n      <th>24</th>\n      <td>central</td>\n      <td>1.295888</td>\n      <td>103.843593</td>\n      <td>2.41</td>\n      <td>31.8</td>\n      <td>47</td>\n      <td>2</td>\n      <td>9</td>\n      <td>54</td>\n    </tr>\n    <tr>\n      <th>25</th>\n      <td>bukit timah</td>\n      <td>1.331353</td>\n      <td>103.790679</td>\n      <td>3.45</td>\n      <td>5.4</td>\n      <td>7</td>\n      <td>3</td>\n      <td>4</td>\n      <td>6</td>\n    </tr>\n  </tbody>\n</table>\n</div>"
     },
     "execution_count": 60,
     "metadata": {},
     "output_type": "execute_result"
    }
   ],
   "source": [
    "df_town"
   ],
   "metadata": {
    "collapsed": false,
    "ExecuteTime": {
     "end_time": "2023-11-04T11:41:45.914360300Z",
     "start_time": "2023-11-04T11:41:45.896759800Z"
    }
   },
   "id": "a50497a9a30d4e06"
  },
  {
   "cell_type": "raw",
   "source": [
    "Now that we have the \"importance\" score of each town, we can find the page rank of the towns"
   ],
   "metadata": {
    "collapsed": false
   },
   "id": "720378813df9c9c0"
  },
  {
   "cell_type": "code",
   "execution_count": 45,
   "outputs": [],
   "source": [
    "def populate_centroid_distance_matrix(lat_long_of_towns):\n",
    "    centroid_distance_matrix = []\n",
    "    for point1 in lat_long_of_towns:\n",
    "        lat1, lon1 = point1\n",
    "        distance_row = []\n",
    "        for point2 in lat_long_of_towns:\n",
    "            lat2, lon2 = point2\n",
    "            # distance = (geodesic(point1, point2).kilometers ) * 1000\n",
    "            distance = haversine_distance(lat1, lon1, lat2, lon2)\n",
    "            distance_row.append(distance)\n",
    "        centroid_distance_matrix.append(distance_row)\n",
    "    return  centroid_distance_matrix   "
   ],
   "metadata": {
    "collapsed": false,
    "ExecuteTime": {
     "end_time": "2023-11-04T10:33:55.799467100Z",
     "start_time": "2023-11-04T10:33:55.780500Z"
    }
   },
   "id": "b0f5db88c7bd372"
  },
  {
   "cell_type": "code",
   "execution_count": 46,
   "outputs": [],
   "source": [
    "def calculate_centrality(importance, d, num_towns):\n",
    "    # Initialize variables\n",
    "    num_iterations = 100  # Number of iterations\n",
    "    damping_factor = 0.85  # Damping factor for PageRank\n",
    "    \n",
    "    # Initialize PageRank scores\n",
    "    PageRank = [1.0 / num_towns] * num_towns\n",
    "    \n",
    "    # Main PageRank computation loop\n",
    "    for iteration in range(num_iterations):\n",
    "        new_PageRank = [0] * num_towns\n",
    "    \n",
    "        for town_i in range(num_towns):\n",
    "            new_PageRank[town_i] = (1 - damping_factor) / num_towns\n",
    "    \n",
    "            for town_j in range(num_towns):\n",
    "                if town_i != town_j:\n",
    "                    # Calculate the influence from town_j to town_i based on distance and importance\n",
    "                    influence = PageRank[town_j] / (d[town_j][town_i] + 1) * importance[town_j]\n",
    "                    new_PageRank[town_i] += damping_factor * influence\n",
    "    \n",
    "        PageRank = new_PageRank\n",
    "    \n",
    "    # Normalize PageRank scores\n",
    "    sum_PageRank = sum(PageRank)\n",
    "    PageRank = [score / sum_PageRank for score in PageRank]\n",
    "    return PageRank"
   ],
   "metadata": {
    "collapsed": false,
    "ExecuteTime": {
     "end_time": "2023-11-04T10:34:38.215123600Z",
     "start_time": "2023-11-04T10:34:38.187849800Z"
    }
   },
   "id": "747aae6730ecabb4"
  },
  {
   "cell_type": "code",
   "execution_count": 47,
   "outputs": [],
   "source": [
    "centroid_distance_matrix = populate_centroid_distance_matrix(lat_long_of_towns)\n",
    "num_towns = len(df_town['town'])\n",
    "centrality = calculate_centrality(importance_score_of_towns, centroid_distance_matrix,num_towns )"
   ],
   "metadata": {
    "collapsed": false,
    "ExecuteTime": {
     "end_time": "2023-11-04T10:34:43.704040800Z",
     "start_time": "2023-11-04T10:34:43.665900700Z"
    }
   },
   "id": "bd6f691b1750736f"
  },
  {
   "cell_type": "code",
   "execution_count": 48,
   "outputs": [
    {
     "data": {
      "text/plain": "[0.03813787514013539,\n 0.03830207874421084,\n 0.03847978100682178,\n 0.0384138752960554,\n 0.03855808123843974,\n 0.03833745924475194,\n 0.03860170235067116,\n 0.03816899271465017,\n 0.03862117861086077,\n 0.038326928346588386,\n 0.03881941383018263,\n 0.03840300282591606,\n 0.038386690173183136,\n 0.038235115943968126,\n 0.03848575740755744,\n 0.03879894459017242,\n 0.03829801498820107,\n 0.03872875822488231,\n 0.03832333448194231,\n 0.038402015260519354,\n 0.03817291630758507,\n 0.03864102544176496,\n 0.038656509435420226,\n 0.038630090063599985,\n 0.03854539967493951,\n 0.03852505865697996]"
     },
     "execution_count": 48,
     "metadata": {},
     "output_type": "execute_result"
    }
   ],
   "source": [
    "centrality"
   ],
   "metadata": {
    "collapsed": false,
    "ExecuteTime": {
     "end_time": "2023-11-04T10:34:53.158915400Z",
     "start_time": "2023-11-04T10:34:53.130326900Z"
    }
   },
   "id": "7dc878aebef95c72"
  },
  {
   "cell_type": "code",
   "execution_count": 69,
   "outputs": [
    {
     "name": "stdout",
     "output_type": "stream",
     "text": [
      "coor:  (1.313183, 103.864736)\n",
      "13809.163992881491\n",
      "13413.429414535456\n",
      "13523.078042377747\n",
      "15602.88210329881\n",
      "16060.2787034491\n",
      "16880.669956427664\n",
      "16673.918664804394\n",
      "16110.832029353212\n",
      "15840.662381572733\n",
      "15897.841443712054\n",
      "14959.328842412193\n",
      "13357.761469936495\n",
      "12131.645975609437\n",
      "7926.757492112411\n",
      "6531.968993324507\n",
      "4512.521963049628\n",
      "3599.54856096392\n",
      "2880.694169701379\n",
      "2470.161060468806\n",
      "2969.400895071047\n",
      "3876.17648483273\n",
      "3186.2046279811675\n",
      "2617.7708505273486\n",
      "2622.791993513294\n",
      "3571.465145149595\n",
      "4251.834365419866\n",
      "4694.427760255461\n",
      "11512.98571522322\n",
      "9873.67286096045\n",
      "10399.21049097608\n",
      "9180.835067137992\n",
      "7357.483427898896\n",
      "5427.9165771980315\n",
      "4341.233531257463\n",
      "3093.0027057198927\n",
      "2058.464258337895\n",
      "762.9337213877484\n",
      "679.5003145068728\n",
      "1758.274422592497\n",
      "2622.791993513294\n",
      "3571.465145149595\n",
      "4568.876182104942\n",
      "4576.75282503178\n",
      "5157.9680769307315\n",
      "5943.329501672216\n",
      "6842.0898307637535\n",
      "11068.02503620907\n",
      "8303.320004059504\n",
      "9571.17958088665\n",
      "11068.02503620907\n",
      "13809.163992881491\n",
      "15022.08812658167\n",
      "16353.32401149166\n",
      "17863.787851914152\n",
      "18796.895529248795\n",
      "20811.7724276327\n",
      "22711.392593924837\n",
      "23989.574562967202\n",
      "25095.114009601897\n",
      "25503.91566844829\n",
      "11131.190836004602\n",
      "14548.793108726828\n",
      "7242.587560193798\n",
      "4576.75282503178\n",
      "4039.622506021604\n",
      "3531.179582672791\n",
      "2617.7708505273486\n",
      "1782.5925327140465\n",
      "1109.5862237904703\n",
      "821.9122895005598\n",
      "2087.576062178704\n",
      "3042.5532740313893\n",
      "4268.90532936856\n",
      "5640.172610471228\n",
      "7053.275232128296\n",
      "8448.665499102774\n",
      "9381.692423540084\n",
      "10957.790769215935\n",
      "2617.7708505273486\n",
      "2386.8726427990046\n",
      "2454.5671590077222\n",
      "2272.9204016867234\n",
      "1496.8027360975736\n",
      "1648.8585578639045\n",
      "2180.259423160164\n",
      "2777.8522401687105\n",
      "3093.0027057198927\n",
      "3193.5051422184292\n",
      "3584.2479839088915\n",
      "3679.8753396789466\n",
      "4268.90532936856\n",
      "4264.143279619747\n",
      "4512.521963049628\n",
      "4849.894937572279\n",
      "3881.0106358540324\n",
      "5580.723611468249\n",
      "6393.6428040237015\n",
      "7589.478799177992\n",
      "8303.320004059504\n",
      "8719.441812015446\n",
      "9174.94153552753\n",
      "9832.188719865359\n",
      "9135.224384364614\n",
      "8189.287450434129\n",
      "7723.76791524941\n",
      "7242.587560193798\n",
      "3537.7523687494822\n",
      "4251.834365419866\n",
      "13673.881757129564\n",
      "12818.578847941058\n",
      "12112.489496458438\n",
      "10361.529358095759\n",
      "9405.335766298633\n",
      "7788.350216623198\n",
      "6633.1364289291105\n",
      "5580.723611468249\n",
      "4370.917164214961\n",
      "2969.400895071047\n",
      "1782.5925327140465\n",
      "1687.04447924978\n",
      "1758.274422592497\n",
      "2272.9204016867234\n",
      "3537.7523687494822\n",
      "3977.5811149432325\n",
      "3894.601528644702\n",
      "4039.622506021604\n",
      "3231.676456276868\n",
      "2252.1272834207157\n",
      "1376.5663337231963\n",
      "202.90897452580515\n",
      "1183.6080001686335\n",
      "2559.9283313051233\n",
      "3193.5051422184292\n",
      "4264.610166776031\n",
      "5430.671688709118\n",
      "6385.753198402735\n",
      "7942.736180490504\n",
      "8958.017809834286\n",
      "9873.67286096045\n",
      "11078.875736935373\n",
      "11212.768231157152\n",
      "11131.190836004602\n",
      "17404.325575929986\n",
      "16110.832029353212\n",
      "14980.354194031677\n",
      "10734.456734298965\n",
      "8663.776859177151\n",
      "7197.322336027783\n",
      "6600.3463768264\n",
      "5792.0445850045835\n",
      "3881.0106358540324\n",
      "4370.917164214961\n",
      "5138.613306983587\n",
      "4698.001344997387\n",
      "3876.17648483273\n",
      "4057.3525511984494\n",
      "4418.266180286542\n",
      "4576.75282503178\n",
      "4307.422092009285\n",
      "4254.851508395919\n",
      "4251.834365419866\n",
      "3869.8100098376963\n",
      "result:  29\n"
     ]
    }
   ],
   "source": [
    "list2 = lat_long_of_mrts\n",
    "number_of_mrts_under_town = 0\n",
    "town_counter = 0\n",
    "point1 = lat_long_of_towns[15]\n",
    "print(\"coor: \", point1)\n",
    "lat1, lon1 = point1\n",
    "for point2 in list2:\n",
    "    lat2, lon2 = point2\n",
    "    # distance = (geodesic(point1, point2).kilometers ) * 1000\n",
    "    distance = haversine_distance(lat1, lon1, lat2, lon2)\n",
    "    print(distance)\n",
    "    if distance <= 2700: # if it is within a 3000m or 3km radius\n",
    "        #print(town_counter)\n",
    "        number_of_mrts_under_town +=1\n",
    "    town_counter +=1\n",
    "print(\"result: \", number_of_mrts_under_town)"
   ],
   "metadata": {
    "collapsed": false,
    "ExecuteTime": {
     "end_time": "2023-11-04T11:55:54.713227200Z",
     "start_time": "2023-11-04T11:55:54.670466100Z"
    }
   },
   "id": "5b7e7d731af819f2"
  },
  {
   "cell_type": "code",
   "execution_count": null,
   "outputs": [],
   "source": [],
   "metadata": {
    "collapsed": false
   },
   "id": "2c0b7eaf54224866"
  }
 ],
 "metadata": {
  "kernelspec": {
   "display_name": "Python 3",
   "language": "python",
   "name": "python3"
  },
  "language_info": {
   "codemirror_mode": {
    "name": "ipython",
    "version": 2
   },
   "file_extension": ".py",
   "mimetype": "text/x-python",
   "name": "python",
   "nbconvert_exporter": "python",
   "pygments_lexer": "ipython2",
   "version": "2.7.6"
  }
 },
 "nbformat": 4,
 "nbformat_minor": 5
}
