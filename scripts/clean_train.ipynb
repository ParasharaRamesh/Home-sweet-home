{
 "cells": [
  {
   "cell_type": "code",
   "execution_count": null,
   "metadata": {},
   "outputs": [],
   "source": [
    "import pandas as pd\n",
    "df = pd.read_csv(\"/home/ps/Downloads/train.csv\")\n",
    "print(df.head(5))"
   ]
  },
  {
   "cell_type": "code",
   "execution_count": 18,
   "metadata": {},
   "outputs": [],
   "source": [
    "from eda import *"
   ]
  },
  {
   "cell_type": "code",
   "execution_count": 19,
   "metadata": {},
   "outputs": [],
   "source": [
    "def clean(df):\n",
    "    df_no_duplicate = duplicate(df)\n",
    "    df_elevation_delete = delete_column(df_no_duplicate, \"elevation\")\n",
    "    df_elevation_delete = delete_column(df_elevation_delete, \"furnished\")\n",
    "    df_normalize_case = to_lower(df_elevation_delete)\n",
    "    df_normalize_flat_type = normalize_flat_type(df_normalize_case)\n",
    "    count_planning_areas(df_normalize_flat_type)\n",
    "    df_elevation_delete = delete_column(df_normalize_flat_type, \"planning_area\")\n",
    "    df_cleaned = df_elevation_delete\n",
    "    return df_cleaned"
   ]
  },
  {
   "cell_type": "code",
   "execution_count": 20,
   "metadata": {},
   "outputs": [
    {
     "name": "stdout",
     "output_type": "stream",
     "text": [
      "Number of duplicates =  273\n",
      "Number of rows before duplicate deletion =  60000\n",
      "Number of rows after duplicate deletion =  59727\n",
      "Number of columns BEFORE elevation column deletion =  16\n",
      "Number of columns AFTER elevation column deletion =  15\n",
      "Number of columns BEFORE elevation column deletion =  15\n",
      "Number of columns AFTER elevation column deletion =  14\n",
      "number of rows which have `planning_area` as a subset of `town` =  58545\n",
      "Number of columns BEFORE elevation column deletion =  14\n",
      "Number of columns AFTER elevation column deletion =  13\n",
      "Number of rows after cleaning =  59727\n",
      "Number of columns after cleaning =  13\n"
     ]
    }
   ],
   "source": [
    "df_cleaned = clean(df)\n",
    "print(\"Number of rows after cleaning = \", len(df_cleaned))\n",
    "print(\"Number of columns after cleaning = \", df_cleaned.shape[1])"
   ]
  }
 ],
 "metadata": {
  "kernelspec": {
   "display_name": "base",
   "language": "python",
   "name": "python3"
  },
  "language_info": {
   "codemirror_mode": {
    "name": "ipython",
    "version": 3
   },
   "file_extension": ".py",
   "mimetype": "text/x-python",
   "name": "python",
   "nbconvert_exporter": "python",
   "pygments_lexer": "ipython3",
   "version": "3.11.4"
  },
  "orig_nbformat": 4
 },
 "nbformat": 4,
 "nbformat_minor": 2
}
